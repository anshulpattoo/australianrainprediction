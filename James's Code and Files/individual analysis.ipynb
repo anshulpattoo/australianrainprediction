{
 "cells": [
  {
   "cell_type": "code",
   "execution_count": 1,
   "metadata": {},
   "outputs": [],
   "source": [
    "import cv2\n",
    "import pandas as pd\n",
    "import numpy as np\n",
    "\n",
    "from  matplotlib import pyplot as plt\n",
    "import matplotlib.image as mpimg\n",
    "%matplotlib inline\n",
    "import seaborn as sns\n",
    "import os\n",
    "import random\n",
    "import gc\n",
    "import tensorflow as tf\n",
    "from sklearn.model_selection import train_test_split\n",
    "from sklearn.linear_model import LogisticRegression\n",
    "from sklearn.metrics import accuracy_score\n",
    "from sklearn.preprocessing import MinMaxScaler"
   ]
  },
  {
   "cell_type": "code",
   "execution_count": 2,
   "metadata": {},
   "outputs": [],
   "source": [
    "data = pd.read_csv(\"weatherAUS.csv\",sep=',')"
   ]
  },
  {
   "cell_type": "markdown",
   "metadata": {},
   "source": [
    "Check which columns have the mose missing data"
   ]
  },
  {
   "cell_type": "code",
   "execution_count": 3,
   "metadata": {},
   "outputs": [
    {
     "name": "stdout",
     "output_type": "stream",
     "text": [
      "                 column_name  percent_missing\n",
      "Date                    Date         0.000000\n",
      "Location            Location         0.000000\n",
      "MaxTemp              MaxTemp         0.866905\n",
      "MinTemp              MinTemp         1.020899\n",
      "Temp9am              Temp9am         1.214767\n",
      "WindSpeed9am    WindSpeed9am         1.214767\n",
      "Humidity9am      Humidity9am         1.824557\n",
      "WindSpeed3pm    WindSpeed3pm         2.105046\n",
      "Rainfall            Rainfall         2.241853\n",
      "RainToday          RainToday         2.241853\n",
      "RainTomorrow    RainTomorrow         2.245978\n",
      "Temp3pm              Temp3pm         2.481094\n",
      "WindDir3pm        WindDir3pm         2.906641\n",
      "Humidity3pm      Humidity3pm         3.098446\n",
      "WindGustSpeed  WindGustSpeed         7.055548\n",
      "WindGustDir      WindGustDir         7.098859\n",
      "WindDir9am        WindDir9am         7.263853\n",
      "Pressure3pm      Pressure3pm        10.331363\n",
      "Pressure9am      Pressure9am        10.356799\n",
      "Cloud9am            Cloud9am        38.421559\n",
      "Cloud3pm            Cloud3pm        40.807095\n",
      "Evaporation      Evaporation        43.166506\n",
      "Sunshine            Sunshine        48.009762\n"
     ]
    }
   ],
   "source": [
    "percent_missing = data.isnull().sum() * 100 / len(data)\n",
    "missing_value_df = pd.DataFrame({'column_name': data.columns,\n",
    "                                 'percent_missing': percent_missing})\n",
    "missing_value_df.sort_values('percent_missing', inplace=True)\n",
    "print(missing_value_df)"
   ]
  },
  {
   "cell_type": "markdown",
   "metadata": {},
   "source": [
    "Removed columns with the largest amount of NA values then removed rows with NA values"
   ]
  },
  {
   "cell_type": "code",
   "execution_count": 4,
   "metadata": {},
   "outputs": [
    {
     "name": "stdout",
     "output_type": "stream",
     "text": [
      "              Date Location  MinTemp  MaxTemp  Rainfall  Evaporation  \\\n",
      "0       2008-12-01   Albury     13.4     22.9       0.6          NaN   \n",
      "1       2008-12-02   Albury      7.4     25.1       0.0          NaN   \n",
      "2       2008-12-03   Albury     12.9     25.7       0.0          NaN   \n",
      "3       2008-12-04   Albury      9.2     28.0       0.0          NaN   \n",
      "4       2008-12-05   Albury     17.5     32.3       1.0          NaN   \n",
      "...            ...      ...      ...      ...       ...          ...   \n",
      "145455  2017-06-21    Uluru      2.8     23.4       0.0          NaN   \n",
      "145456  2017-06-22    Uluru      3.6     25.3       0.0          NaN   \n",
      "145457  2017-06-23    Uluru      5.4     26.9       0.0          NaN   \n",
      "145458  2017-06-24    Uluru      7.8     27.0       0.0          NaN   \n",
      "145459  2017-06-25    Uluru     14.9      NaN       0.0          NaN   \n",
      "\n",
      "        Sunshine WindGustDir  WindGustSpeed WindDir9am  ... Humidity9am  \\\n",
      "0            NaN           W           44.0          W  ...        71.0   \n",
      "1            NaN         WNW           44.0        NNW  ...        44.0   \n",
      "2            NaN         WSW           46.0          W  ...        38.0   \n",
      "3            NaN          NE           24.0         SE  ...        45.0   \n",
      "4            NaN           W           41.0        ENE  ...        82.0   \n",
      "...          ...         ...            ...        ...  ...         ...   \n",
      "145455       NaN           E           31.0         SE  ...        51.0   \n",
      "145456       NaN         NNW           22.0         SE  ...        56.0   \n",
      "145457       NaN           N           37.0         SE  ...        53.0   \n",
      "145458       NaN          SE           28.0        SSE  ...        51.0   \n",
      "145459       NaN         NaN            NaN        ESE  ...        62.0   \n",
      "\n",
      "        Humidity3pm  Pressure9am  Pressure3pm  Cloud9am  Cloud3pm  Temp9am  \\\n",
      "0              22.0       1007.7       1007.1       8.0       NaN     16.9   \n",
      "1              25.0       1010.6       1007.8       NaN       NaN     17.2   \n",
      "2              30.0       1007.6       1008.7       NaN       2.0     21.0   \n",
      "3              16.0       1017.6       1012.8       NaN       NaN     18.1   \n",
      "4              33.0       1010.8       1006.0       7.0       8.0     17.8   \n",
      "...             ...          ...          ...       ...       ...      ...   \n",
      "145455         24.0       1024.6       1020.3       NaN       NaN     10.1   \n",
      "145456         21.0       1023.5       1019.1       NaN       NaN     10.9   \n",
      "145457         24.0       1021.0       1016.8       NaN       NaN     12.5   \n",
      "145458         24.0       1019.4       1016.5       3.0       2.0     15.1   \n",
      "145459         36.0       1020.2       1017.9       8.0       8.0     15.0   \n",
      "\n",
      "        Temp3pm  RainToday  RainTomorrow  \n",
      "0          21.8         No            No  \n",
      "1          24.3         No            No  \n",
      "2          23.2         No            No  \n",
      "3          26.5         No            No  \n",
      "4          29.7         No            No  \n",
      "...         ...        ...           ...  \n",
      "145455     22.4         No            No  \n",
      "145456     24.5         No            No  \n",
      "145457     26.1         No            No  \n",
      "145458     26.0         No            No  \n",
      "145459     20.9         No           NaN  \n",
      "\n",
      "[145460 rows x 23 columns]\n",
      "              Date Location  MinTemp  MaxTemp  Rainfall WindGustDir  \\\n",
      "0       2008-12-01   Albury     13.4     22.9       0.6           W   \n",
      "1       2008-12-02   Albury      7.4     25.1       0.0         WNW   \n",
      "2       2008-12-03   Albury     12.9     25.7       0.0         WSW   \n",
      "3       2008-12-04   Albury      9.2     28.0       0.0          NE   \n",
      "4       2008-12-05   Albury     17.5     32.3       1.0           W   \n",
      "...            ...      ...      ...      ...       ...         ...   \n",
      "145455  2017-06-21    Uluru      2.8     23.4       0.0           E   \n",
      "145456  2017-06-22    Uluru      3.6     25.3       0.0         NNW   \n",
      "145457  2017-06-23    Uluru      5.4     26.9       0.0           N   \n",
      "145458  2017-06-24    Uluru      7.8     27.0       0.0          SE   \n",
      "145459  2017-06-25    Uluru     14.9      NaN       0.0         NaN   \n",
      "\n",
      "        WindGustSpeed WindDir9am WindDir3pm  WindSpeed9am  WindSpeed3pm  \\\n",
      "0                44.0          W        WNW          20.0          24.0   \n",
      "1                44.0        NNW        WSW           4.0          22.0   \n",
      "2                46.0          W        WSW          19.0          26.0   \n",
      "3                24.0         SE          E          11.0           9.0   \n",
      "4                41.0        ENE         NW           7.0          20.0   \n",
      "...               ...        ...        ...           ...           ...   \n",
      "145455           31.0         SE        ENE          13.0          11.0   \n",
      "145456           22.0         SE          N          13.0           9.0   \n",
      "145457           37.0         SE        WNW           9.0           9.0   \n",
      "145458           28.0        SSE          N          13.0           7.0   \n",
      "145459            NaN        ESE        ESE          17.0          17.0   \n",
      "\n",
      "        Humidity9am  Humidity3pm  Pressure9am  Pressure3pm  Temp9am  Temp3pm  \\\n",
      "0              71.0         22.0       1007.7       1007.1     16.9     21.8   \n",
      "1              44.0         25.0       1010.6       1007.8     17.2     24.3   \n",
      "2              38.0         30.0       1007.6       1008.7     21.0     23.2   \n",
      "3              45.0         16.0       1017.6       1012.8     18.1     26.5   \n",
      "4              82.0         33.0       1010.8       1006.0     17.8     29.7   \n",
      "...             ...          ...          ...          ...      ...      ...   \n",
      "145455         51.0         24.0       1024.6       1020.3     10.1     22.4   \n",
      "145456         56.0         21.0       1023.5       1019.1     10.9     24.5   \n",
      "145457         53.0         24.0       1021.0       1016.8     12.5     26.1   \n",
      "145458         51.0         24.0       1019.4       1016.5     15.1     26.0   \n",
      "145459         62.0         36.0       1020.2       1017.9     15.0     20.9   \n",
      "\n",
      "       RainToday RainTomorrow  \n",
      "0             No           No  \n",
      "1             No           No  \n",
      "2             No           No  \n",
      "3             No           No  \n",
      "4             No           No  \n",
      "...          ...          ...  \n",
      "145455        No           No  \n",
      "145456        No           No  \n",
      "145457        No           No  \n",
      "145458        No           No  \n",
      "145459        No          NaN  \n",
      "\n",
      "[145460 rows x 19 columns]\n"
     ]
    }
   ],
   "source": [
    "print(data)\n",
    "del data['Sunshine']\n",
    "del data['Evaporation']\n",
    "del data['Cloud3pm']\n",
    "del data['Cloud9am']\n",
    "#data = data.dropna()\n",
    "print(data)"
   ]
  },
  {
   "cell_type": "code",
   "execution_count": 5,
   "metadata": {},
   "outputs": [
    {
     "data": {
      "text/plain": [
       "Date                 0\n",
       "Location             0\n",
       "MinTemp           1485\n",
       "MaxTemp           1261\n",
       "Rainfall          3261\n",
       "WindGustDir      10326\n",
       "WindGustSpeed    10263\n",
       "WindDir9am       10566\n",
       "WindDir3pm        4228\n",
       "WindSpeed9am      1767\n",
       "WindSpeed3pm      3062\n",
       "Humidity9am       2654\n",
       "Humidity3pm       4507\n",
       "Pressure9am      15065\n",
       "Pressure3pm      15028\n",
       "Temp9am           1767\n",
       "Temp3pm           3609\n",
       "RainToday         3261\n",
       "RainTomorrow      3267\n",
       "dtype: int64"
      ]
     },
     "execution_count": 5,
     "metadata": {},
     "output_type": "execute_result"
    }
   ],
   "source": [
    "data.isnull().sum()"
   ]
  },
  {
   "cell_type": "code",
   "execution_count": 6,
   "metadata": {},
   "outputs": [
    {
     "data": {
      "text/plain": [
       "Date                 0\n",
       "Location             0\n",
       "MinTemp            637\n",
       "MaxTemp            322\n",
       "Rainfall          1406\n",
       "WindGustDir       9330\n",
       "WindGustSpeed     9270\n",
       "WindDir9am       10013\n",
       "WindDir3pm        3778\n",
       "WindSpeed9am      1348\n",
       "WindSpeed3pm      2630\n",
       "Humidity9am       1774\n",
       "Humidity3pm       3610\n",
       "Pressure9am      14014\n",
       "Pressure3pm      13981\n",
       "Temp9am            904\n",
       "Temp3pm           2726\n",
       "RainToday         1406\n",
       "RainTomorrow         0\n",
       "dtype: int64"
      ]
     },
     "execution_count": 6,
     "metadata": {},
     "output_type": "execute_result"
    }
   ],
   "source": [
    "data = data.dropna(subset = ['RainTomorrow'])\n",
    "data.isnull().sum()"
   ]
  },
  {
   "cell_type": "code",
   "execution_count": 7,
   "metadata": {},
   "outputs": [
    {
     "name": "stdout",
     "output_type": "stream",
     "text": [
      "There are 7 categorical variables\n",
      "\n",
      "The categorical variables are : ['Date', 'Location', 'WindGustDir', 'WindDir9am', 'WindDir3pm', 'RainToday', 'RainTomorrow']\n",
      "Date  contains  3436  labels\n",
      "Location  contains  49  labels\n",
      "WindGustDir  contains  17  labels\n",
      "WindDir9am  contains  17  labels\n",
      "WindDir3pm  contains  17  labels\n",
      "RainToday  contains  3  labels\n",
      "RainTomorrow  contains  2  labels\n"
     ]
    }
   ],
   "source": [
    "categorical = [var for var in data.columns if data[var].dtype=='O']\n",
    "\n",
    "print('There are {} categorical variables\\n'.format(len(categorical)))\n",
    "\n",
    "print('The categorical variables are :', categorical)\n",
    "\n",
    "for var in categorical:\n",
    "    \n",
    "    print(var, ' contains ', len(data[var].unique()), ' labels')"
   ]
  },
  {
   "cell_type": "code",
   "execution_count": 8,
   "metadata": {},
   "outputs": [
    {
     "data": {
      "text/plain": [
       "dtype('O')"
      ]
     },
     "execution_count": 8,
     "metadata": {},
     "output_type": "execute_result"
    }
   ],
   "source": [
    "data['Date'].dtypes"
   ]
  },
  {
   "cell_type": "code",
   "execution_count": 9,
   "metadata": {},
   "outputs": [
    {
     "name": "stdout",
     "output_type": "stream",
     "text": [
      "<class 'pandas.core.frame.DataFrame'>\n",
      "Int64Index: 142193 entries, 0 to 145458\n",
      "Data columns (total 22 columns):\n",
      " #   Column         Non-Null Count   Dtype         \n",
      "---  ------         --------------   -----         \n",
      " 0   Date           142193 non-null  datetime64[ns]\n",
      " 1   Location       142193 non-null  object        \n",
      " 2   MinTemp        141556 non-null  float64       \n",
      " 3   MaxTemp        141871 non-null  float64       \n",
      " 4   Rainfall       140787 non-null  float64       \n",
      " 5   WindGustDir    132863 non-null  object        \n",
      " 6   WindGustSpeed  132923 non-null  float64       \n",
      " 7   WindDir9am     132180 non-null  object        \n",
      " 8   WindDir3pm     138415 non-null  object        \n",
      " 9   WindSpeed9am   140845 non-null  float64       \n",
      " 10  WindSpeed3pm   139563 non-null  float64       \n",
      " 11  Humidity9am    140419 non-null  float64       \n",
      " 12  Humidity3pm    138583 non-null  float64       \n",
      " 13  Pressure9am    128179 non-null  float64       \n",
      " 14  Pressure3pm    128212 non-null  float64       \n",
      " 15  Temp9am        141289 non-null  float64       \n",
      " 16  Temp3pm        139467 non-null  float64       \n",
      " 17  RainToday      140787 non-null  object        \n",
      " 18  RainTomorrow   142193 non-null  object        \n",
      " 19  Year           142193 non-null  int64         \n",
      " 20  Month          142193 non-null  int64         \n",
      " 21  Day            142193 non-null  int64         \n",
      "dtypes: datetime64[ns](1), float64(12), int64(3), object(6)\n",
      "memory usage: 25.0+ MB\n"
     ]
    }
   ],
   "source": [
    "data['Date'] = pd.to_datetime(data['Date'])\n",
    "data['Year'] = data['Date'].dt.year\n",
    "data['Month'] = data['Date'].dt.month\n",
    "data['Day'] = data['Date'].dt.day\n",
    "data.info()"
   ]
  },
  {
   "cell_type": "code",
   "execution_count": 10,
   "metadata": {},
   "outputs": [],
   "source": [
    "del data['Date']"
   ]
  },
  {
   "cell_type": "code",
   "execution_count": 11,
   "metadata": {},
   "outputs": [
    {
     "name": "stdout",
     "output_type": "stream",
     "text": [
      "<class 'pandas.core.frame.DataFrame'>\n",
      "Int64Index: 142193 entries, 0 to 145458\n",
      "Data columns (total 21 columns):\n",
      " #   Column         Non-Null Count   Dtype  \n",
      "---  ------         --------------   -----  \n",
      " 0   Location       142193 non-null  object \n",
      " 1   MinTemp        141556 non-null  float64\n",
      " 2   MaxTemp        141871 non-null  float64\n",
      " 3   Rainfall       140787 non-null  float64\n",
      " 4   WindGustDir    132863 non-null  object \n",
      " 5   WindGustSpeed  132923 non-null  float64\n",
      " 6   WindDir9am     132180 non-null  object \n",
      " 7   WindDir3pm     138415 non-null  object \n",
      " 8   WindSpeed9am   140845 non-null  float64\n",
      " 9   WindSpeed3pm   139563 non-null  float64\n",
      " 10  Humidity9am    140419 non-null  float64\n",
      " 11  Humidity3pm    138583 non-null  float64\n",
      " 12  Pressure9am    128179 non-null  float64\n",
      " 13  Pressure3pm    128212 non-null  float64\n",
      " 14  Temp9am        141289 non-null  float64\n",
      " 15  Temp3pm        139467 non-null  float64\n",
      " 16  RainToday      140787 non-null  object \n",
      " 17  RainTomorrow   142193 non-null  object \n",
      " 18  Year           142193 non-null  int64  \n",
      " 19  Month          142193 non-null  int64  \n",
      " 20  Day            142193 non-null  int64  \n",
      "dtypes: float64(12), int64(3), object(6)\n",
      "memory usage: 23.9+ MB\n"
     ]
    }
   ],
   "source": [
    "data.info()"
   ]
  },
  {
   "cell_type": "code",
   "execution_count": 12,
   "metadata": {},
   "outputs": [
    {
     "data": {
      "text/plain": [
       "Canberra            3418\n",
       "Sydney              3337\n",
       "Perth               3193\n",
       "Darwin              3192\n",
       "Hobart              3188\n",
       "Brisbane            3161\n",
       "Adelaide            3090\n",
       "Bendigo             3034\n",
       "Townsville          3033\n",
       "AliceSprings        3031\n",
       "MountGambier        3030\n",
       "Ballarat            3028\n",
       "Launceston          3028\n",
       "Albany              3016\n",
       "Albury              3011\n",
       "PerthAirport        3009\n",
       "MelbourneAirport    3009\n",
       "Mildura             3007\n",
       "SydneyAirport       3005\n",
       "Nuriootpa           3002\n",
       "Sale                3000\n",
       "Watsonia            2999\n",
       "Tuggeranong         2998\n",
       "Portland            2996\n",
       "Woomera             2990\n",
       "Cairns              2988\n",
       "Cobar               2988\n",
       "Wollongong          2983\n",
       "GoldCoast           2980\n",
       "WaggaWagga          2976\n",
       "NorfolkIsland       2964\n",
       "Penrith             2964\n",
       "Newcastle           2955\n",
       "SalmonGums          2955\n",
       "CoffsHarbour        2953\n",
       "Witchcliffe         2952\n",
       "Richmond            2951\n",
       "Dartmoor            2943\n",
       "NorahHead           2929\n",
       "BadgerysCreek       2928\n",
       "MountGinini         2907\n",
       "Moree               2854\n",
       "Walpole             2819\n",
       "PearceRAAF          2762\n",
       "Williamtown         2553\n",
       "Melbourne           2435\n",
       "Nhil                1569\n",
       "Katherine           1559\n",
       "Uluru               1521\n",
       "Name: Location, dtype: int64"
      ]
     },
     "execution_count": 12,
     "metadata": {},
     "output_type": "execute_result"
    }
   ],
   "source": [
    "data.Location.value_counts()"
   ]
  },
  {
   "cell_type": "code",
   "execution_count": 13,
   "metadata": {},
   "outputs": [
    {
     "data": {
      "text/html": [
       "<div>\n",
       "<style scoped>\n",
       "    .dataframe tbody tr th:only-of-type {\n",
       "        vertical-align: middle;\n",
       "    }\n",
       "\n",
       "    .dataframe tbody tr th {\n",
       "        vertical-align: top;\n",
       "    }\n",
       "\n",
       "    .dataframe thead th {\n",
       "        text-align: right;\n",
       "    }\n",
       "</style>\n",
       "<table border=\"1\" class=\"dataframe\">\n",
       "  <thead>\n",
       "    <tr style=\"text-align: right;\">\n",
       "      <th></th>\n",
       "      <th>Albany</th>\n",
       "      <th>Albury</th>\n",
       "      <th>AliceSprings</th>\n",
       "      <th>BadgerysCreek</th>\n",
       "      <th>Ballarat</th>\n",
       "      <th>Bendigo</th>\n",
       "      <th>Brisbane</th>\n",
       "      <th>Cairns</th>\n",
       "      <th>Canberra</th>\n",
       "      <th>Cobar</th>\n",
       "      <th>...</th>\n",
       "      <th>Tuggeranong</th>\n",
       "      <th>Uluru</th>\n",
       "      <th>WaggaWagga</th>\n",
       "      <th>Walpole</th>\n",
       "      <th>Watsonia</th>\n",
       "      <th>Williamtown</th>\n",
       "      <th>Witchcliffe</th>\n",
       "      <th>Wollongong</th>\n",
       "      <th>Woomera</th>\n",
       "      <th>NaN</th>\n",
       "    </tr>\n",
       "  </thead>\n",
       "  <tbody>\n",
       "    <tr>\n",
       "      <th>0</th>\n",
       "      <td>0</td>\n",
       "      <td>1</td>\n",
       "      <td>0</td>\n",
       "      <td>0</td>\n",
       "      <td>0</td>\n",
       "      <td>0</td>\n",
       "      <td>0</td>\n",
       "      <td>0</td>\n",
       "      <td>0</td>\n",
       "      <td>0</td>\n",
       "      <td>...</td>\n",
       "      <td>0</td>\n",
       "      <td>0</td>\n",
       "      <td>0</td>\n",
       "      <td>0</td>\n",
       "      <td>0</td>\n",
       "      <td>0</td>\n",
       "      <td>0</td>\n",
       "      <td>0</td>\n",
       "      <td>0</td>\n",
       "      <td>0</td>\n",
       "    </tr>\n",
       "    <tr>\n",
       "      <th>1</th>\n",
       "      <td>0</td>\n",
       "      <td>1</td>\n",
       "      <td>0</td>\n",
       "      <td>0</td>\n",
       "      <td>0</td>\n",
       "      <td>0</td>\n",
       "      <td>0</td>\n",
       "      <td>0</td>\n",
       "      <td>0</td>\n",
       "      <td>0</td>\n",
       "      <td>...</td>\n",
       "      <td>0</td>\n",
       "      <td>0</td>\n",
       "      <td>0</td>\n",
       "      <td>0</td>\n",
       "      <td>0</td>\n",
       "      <td>0</td>\n",
       "      <td>0</td>\n",
       "      <td>0</td>\n",
       "      <td>0</td>\n",
       "      <td>0</td>\n",
       "    </tr>\n",
       "    <tr>\n",
       "      <th>2</th>\n",
       "      <td>0</td>\n",
       "      <td>1</td>\n",
       "      <td>0</td>\n",
       "      <td>0</td>\n",
       "      <td>0</td>\n",
       "      <td>0</td>\n",
       "      <td>0</td>\n",
       "      <td>0</td>\n",
       "      <td>0</td>\n",
       "      <td>0</td>\n",
       "      <td>...</td>\n",
       "      <td>0</td>\n",
       "      <td>0</td>\n",
       "      <td>0</td>\n",
       "      <td>0</td>\n",
       "      <td>0</td>\n",
       "      <td>0</td>\n",
       "      <td>0</td>\n",
       "      <td>0</td>\n",
       "      <td>0</td>\n",
       "      <td>0</td>\n",
       "    </tr>\n",
       "    <tr>\n",
       "      <th>3</th>\n",
       "      <td>0</td>\n",
       "      <td>1</td>\n",
       "      <td>0</td>\n",
       "      <td>0</td>\n",
       "      <td>0</td>\n",
       "      <td>0</td>\n",
       "      <td>0</td>\n",
       "      <td>0</td>\n",
       "      <td>0</td>\n",
       "      <td>0</td>\n",
       "      <td>...</td>\n",
       "      <td>0</td>\n",
       "      <td>0</td>\n",
       "      <td>0</td>\n",
       "      <td>0</td>\n",
       "      <td>0</td>\n",
       "      <td>0</td>\n",
       "      <td>0</td>\n",
       "      <td>0</td>\n",
       "      <td>0</td>\n",
       "      <td>0</td>\n",
       "    </tr>\n",
       "    <tr>\n",
       "      <th>4</th>\n",
       "      <td>0</td>\n",
       "      <td>1</td>\n",
       "      <td>0</td>\n",
       "      <td>0</td>\n",
       "      <td>0</td>\n",
       "      <td>0</td>\n",
       "      <td>0</td>\n",
       "      <td>0</td>\n",
       "      <td>0</td>\n",
       "      <td>0</td>\n",
       "      <td>...</td>\n",
       "      <td>0</td>\n",
       "      <td>0</td>\n",
       "      <td>0</td>\n",
       "      <td>0</td>\n",
       "      <td>0</td>\n",
       "      <td>0</td>\n",
       "      <td>0</td>\n",
       "      <td>0</td>\n",
       "      <td>0</td>\n",
       "      <td>0</td>\n",
       "    </tr>\n",
       "    <tr>\n",
       "      <th>...</th>\n",
       "      <td>...</td>\n",
       "      <td>...</td>\n",
       "      <td>...</td>\n",
       "      <td>...</td>\n",
       "      <td>...</td>\n",
       "      <td>...</td>\n",
       "      <td>...</td>\n",
       "      <td>...</td>\n",
       "      <td>...</td>\n",
       "      <td>...</td>\n",
       "      <td>...</td>\n",
       "      <td>...</td>\n",
       "      <td>...</td>\n",
       "      <td>...</td>\n",
       "      <td>...</td>\n",
       "      <td>...</td>\n",
       "      <td>...</td>\n",
       "      <td>...</td>\n",
       "      <td>...</td>\n",
       "      <td>...</td>\n",
       "      <td>...</td>\n",
       "    </tr>\n",
       "    <tr>\n",
       "      <th>145454</th>\n",
       "      <td>0</td>\n",
       "      <td>0</td>\n",
       "      <td>0</td>\n",
       "      <td>0</td>\n",
       "      <td>0</td>\n",
       "      <td>0</td>\n",
       "      <td>0</td>\n",
       "      <td>0</td>\n",
       "      <td>0</td>\n",
       "      <td>0</td>\n",
       "      <td>...</td>\n",
       "      <td>0</td>\n",
       "      <td>1</td>\n",
       "      <td>0</td>\n",
       "      <td>0</td>\n",
       "      <td>0</td>\n",
       "      <td>0</td>\n",
       "      <td>0</td>\n",
       "      <td>0</td>\n",
       "      <td>0</td>\n",
       "      <td>0</td>\n",
       "    </tr>\n",
       "    <tr>\n",
       "      <th>145455</th>\n",
       "      <td>0</td>\n",
       "      <td>0</td>\n",
       "      <td>0</td>\n",
       "      <td>0</td>\n",
       "      <td>0</td>\n",
       "      <td>0</td>\n",
       "      <td>0</td>\n",
       "      <td>0</td>\n",
       "      <td>0</td>\n",
       "      <td>0</td>\n",
       "      <td>...</td>\n",
       "      <td>0</td>\n",
       "      <td>1</td>\n",
       "      <td>0</td>\n",
       "      <td>0</td>\n",
       "      <td>0</td>\n",
       "      <td>0</td>\n",
       "      <td>0</td>\n",
       "      <td>0</td>\n",
       "      <td>0</td>\n",
       "      <td>0</td>\n",
       "    </tr>\n",
       "    <tr>\n",
       "      <th>145456</th>\n",
       "      <td>0</td>\n",
       "      <td>0</td>\n",
       "      <td>0</td>\n",
       "      <td>0</td>\n",
       "      <td>0</td>\n",
       "      <td>0</td>\n",
       "      <td>0</td>\n",
       "      <td>0</td>\n",
       "      <td>0</td>\n",
       "      <td>0</td>\n",
       "      <td>...</td>\n",
       "      <td>0</td>\n",
       "      <td>1</td>\n",
       "      <td>0</td>\n",
       "      <td>0</td>\n",
       "      <td>0</td>\n",
       "      <td>0</td>\n",
       "      <td>0</td>\n",
       "      <td>0</td>\n",
       "      <td>0</td>\n",
       "      <td>0</td>\n",
       "    </tr>\n",
       "    <tr>\n",
       "      <th>145457</th>\n",
       "      <td>0</td>\n",
       "      <td>0</td>\n",
       "      <td>0</td>\n",
       "      <td>0</td>\n",
       "      <td>0</td>\n",
       "      <td>0</td>\n",
       "      <td>0</td>\n",
       "      <td>0</td>\n",
       "      <td>0</td>\n",
       "      <td>0</td>\n",
       "      <td>...</td>\n",
       "      <td>0</td>\n",
       "      <td>1</td>\n",
       "      <td>0</td>\n",
       "      <td>0</td>\n",
       "      <td>0</td>\n",
       "      <td>0</td>\n",
       "      <td>0</td>\n",
       "      <td>0</td>\n",
       "      <td>0</td>\n",
       "      <td>0</td>\n",
       "    </tr>\n",
       "    <tr>\n",
       "      <th>145458</th>\n",
       "      <td>0</td>\n",
       "      <td>0</td>\n",
       "      <td>0</td>\n",
       "      <td>0</td>\n",
       "      <td>0</td>\n",
       "      <td>0</td>\n",
       "      <td>0</td>\n",
       "      <td>0</td>\n",
       "      <td>0</td>\n",
       "      <td>0</td>\n",
       "      <td>...</td>\n",
       "      <td>0</td>\n",
       "      <td>1</td>\n",
       "      <td>0</td>\n",
       "      <td>0</td>\n",
       "      <td>0</td>\n",
       "      <td>0</td>\n",
       "      <td>0</td>\n",
       "      <td>0</td>\n",
       "      <td>0</td>\n",
       "      <td>0</td>\n",
       "    </tr>\n",
       "  </tbody>\n",
       "</table>\n",
       "<p>142193 rows × 49 columns</p>\n",
       "</div>"
      ],
      "text/plain": [
       "        Albany  Albury  AliceSprings  BadgerysCreek  Ballarat  Bendigo  \\\n",
       "0            0       1             0              0         0        0   \n",
       "1            0       1             0              0         0        0   \n",
       "2            0       1             0              0         0        0   \n",
       "3            0       1             0              0         0        0   \n",
       "4            0       1             0              0         0        0   \n",
       "...        ...     ...           ...            ...       ...      ...   \n",
       "145454       0       0             0              0         0        0   \n",
       "145455       0       0             0              0         0        0   \n",
       "145456       0       0             0              0         0        0   \n",
       "145457       0       0             0              0         0        0   \n",
       "145458       0       0             0              0         0        0   \n",
       "\n",
       "        Brisbane  Cairns  Canberra  Cobar  ...  Tuggeranong  Uluru  \\\n",
       "0              0       0         0      0  ...            0      0   \n",
       "1              0       0         0      0  ...            0      0   \n",
       "2              0       0         0      0  ...            0      0   \n",
       "3              0       0         0      0  ...            0      0   \n",
       "4              0       0         0      0  ...            0      0   \n",
       "...          ...     ...       ...    ...  ...          ...    ...   \n",
       "145454         0       0         0      0  ...            0      1   \n",
       "145455         0       0         0      0  ...            0      1   \n",
       "145456         0       0         0      0  ...            0      1   \n",
       "145457         0       0         0      0  ...            0      1   \n",
       "145458         0       0         0      0  ...            0      1   \n",
       "\n",
       "        WaggaWagga  Walpole  Watsonia  Williamtown  Witchcliffe  Wollongong  \\\n",
       "0                0        0         0            0            0           0   \n",
       "1                0        0         0            0            0           0   \n",
       "2                0        0         0            0            0           0   \n",
       "3                0        0         0            0            0           0   \n",
       "4                0        0         0            0            0           0   \n",
       "...            ...      ...       ...          ...          ...         ...   \n",
       "145454           0        0         0            0            0           0   \n",
       "145455           0        0         0            0            0           0   \n",
       "145456           0        0         0            0            0           0   \n",
       "145457           0        0         0            0            0           0   \n",
       "145458           0        0         0            0            0           0   \n",
       "\n",
       "        Woomera  NaN  \n",
       "0             0    0  \n",
       "1             0    0  \n",
       "2             0    0  \n",
       "3             0    0  \n",
       "4             0    0  \n",
       "...         ...  ...  \n",
       "145454        0    0  \n",
       "145455        0    0  \n",
       "145456        0    0  \n",
       "145457        0    0  \n",
       "145458        0    0  \n",
       "\n",
       "[142193 rows x 49 columns]"
      ]
     },
     "execution_count": 13,
     "metadata": {},
     "output_type": "execute_result"
    }
   ],
   "source": [
    "#create dummy variables for location\n",
    "pd.get_dummies(data.Location, drop_first=True, dummy_na=True)"
   ]
  },
  {
   "cell_type": "code",
   "execution_count": 14,
   "metadata": {},
   "outputs": [
    {
     "data": {
      "text/html": [
       "<div>\n",
       "<style scoped>\n",
       "    .dataframe tbody tr th:only-of-type {\n",
       "        vertical-align: middle;\n",
       "    }\n",
       "\n",
       "    .dataframe tbody tr th {\n",
       "        vertical-align: top;\n",
       "    }\n",
       "\n",
       "    .dataframe thead th {\n",
       "        text-align: right;\n",
       "    }\n",
       "</style>\n",
       "<table border=\"1\" class=\"dataframe\">\n",
       "  <thead>\n",
       "    <tr style=\"text-align: right;\">\n",
       "      <th></th>\n",
       "      <th>ENE</th>\n",
       "      <th>ESE</th>\n",
       "      <th>N</th>\n",
       "      <th>NE</th>\n",
       "      <th>NNE</th>\n",
       "      <th>NNW</th>\n",
       "      <th>NW</th>\n",
       "      <th>S</th>\n",
       "      <th>SE</th>\n",
       "      <th>SSE</th>\n",
       "      <th>SSW</th>\n",
       "      <th>SW</th>\n",
       "      <th>W</th>\n",
       "      <th>WNW</th>\n",
       "      <th>WSW</th>\n",
       "      <th>NaN</th>\n",
       "    </tr>\n",
       "  </thead>\n",
       "  <tbody>\n",
       "    <tr>\n",
       "      <th>0</th>\n",
       "      <td>0</td>\n",
       "      <td>0</td>\n",
       "      <td>0</td>\n",
       "      <td>0</td>\n",
       "      <td>0</td>\n",
       "      <td>0</td>\n",
       "      <td>0</td>\n",
       "      <td>0</td>\n",
       "      <td>0</td>\n",
       "      <td>0</td>\n",
       "      <td>0</td>\n",
       "      <td>0</td>\n",
       "      <td>0</td>\n",
       "      <td>1</td>\n",
       "      <td>0</td>\n",
       "      <td>0</td>\n",
       "    </tr>\n",
       "    <tr>\n",
       "      <th>1</th>\n",
       "      <td>0</td>\n",
       "      <td>0</td>\n",
       "      <td>0</td>\n",
       "      <td>0</td>\n",
       "      <td>0</td>\n",
       "      <td>0</td>\n",
       "      <td>0</td>\n",
       "      <td>0</td>\n",
       "      <td>0</td>\n",
       "      <td>0</td>\n",
       "      <td>0</td>\n",
       "      <td>0</td>\n",
       "      <td>0</td>\n",
       "      <td>0</td>\n",
       "      <td>1</td>\n",
       "      <td>0</td>\n",
       "    </tr>\n",
       "    <tr>\n",
       "      <th>2</th>\n",
       "      <td>0</td>\n",
       "      <td>0</td>\n",
       "      <td>0</td>\n",
       "      <td>0</td>\n",
       "      <td>0</td>\n",
       "      <td>0</td>\n",
       "      <td>0</td>\n",
       "      <td>0</td>\n",
       "      <td>0</td>\n",
       "      <td>0</td>\n",
       "      <td>0</td>\n",
       "      <td>0</td>\n",
       "      <td>0</td>\n",
       "      <td>0</td>\n",
       "      <td>1</td>\n",
       "      <td>0</td>\n",
       "    </tr>\n",
       "    <tr>\n",
       "      <th>3</th>\n",
       "      <td>0</td>\n",
       "      <td>0</td>\n",
       "      <td>0</td>\n",
       "      <td>0</td>\n",
       "      <td>0</td>\n",
       "      <td>0</td>\n",
       "      <td>0</td>\n",
       "      <td>0</td>\n",
       "      <td>0</td>\n",
       "      <td>0</td>\n",
       "      <td>0</td>\n",
       "      <td>0</td>\n",
       "      <td>0</td>\n",
       "      <td>0</td>\n",
       "      <td>0</td>\n",
       "      <td>0</td>\n",
       "    </tr>\n",
       "    <tr>\n",
       "      <th>4</th>\n",
       "      <td>0</td>\n",
       "      <td>0</td>\n",
       "      <td>0</td>\n",
       "      <td>0</td>\n",
       "      <td>0</td>\n",
       "      <td>0</td>\n",
       "      <td>1</td>\n",
       "      <td>0</td>\n",
       "      <td>0</td>\n",
       "      <td>0</td>\n",
       "      <td>0</td>\n",
       "      <td>0</td>\n",
       "      <td>0</td>\n",
       "      <td>0</td>\n",
       "      <td>0</td>\n",
       "      <td>0</td>\n",
       "    </tr>\n",
       "    <tr>\n",
       "      <th>...</th>\n",
       "      <td>...</td>\n",
       "      <td>...</td>\n",
       "      <td>...</td>\n",
       "      <td>...</td>\n",
       "      <td>...</td>\n",
       "      <td>...</td>\n",
       "      <td>...</td>\n",
       "      <td>...</td>\n",
       "      <td>...</td>\n",
       "      <td>...</td>\n",
       "      <td>...</td>\n",
       "      <td>...</td>\n",
       "      <td>...</td>\n",
       "      <td>...</td>\n",
       "      <td>...</td>\n",
       "      <td>...</td>\n",
       "    </tr>\n",
       "    <tr>\n",
       "      <th>145454</th>\n",
       "      <td>0</td>\n",
       "      <td>0</td>\n",
       "      <td>0</td>\n",
       "      <td>0</td>\n",
       "      <td>0</td>\n",
       "      <td>0</td>\n",
       "      <td>0</td>\n",
       "      <td>0</td>\n",
       "      <td>0</td>\n",
       "      <td>0</td>\n",
       "      <td>0</td>\n",
       "      <td>0</td>\n",
       "      <td>0</td>\n",
       "      <td>0</td>\n",
       "      <td>0</td>\n",
       "      <td>0</td>\n",
       "    </tr>\n",
       "    <tr>\n",
       "      <th>145455</th>\n",
       "      <td>1</td>\n",
       "      <td>0</td>\n",
       "      <td>0</td>\n",
       "      <td>0</td>\n",
       "      <td>0</td>\n",
       "      <td>0</td>\n",
       "      <td>0</td>\n",
       "      <td>0</td>\n",
       "      <td>0</td>\n",
       "      <td>0</td>\n",
       "      <td>0</td>\n",
       "      <td>0</td>\n",
       "      <td>0</td>\n",
       "      <td>0</td>\n",
       "      <td>0</td>\n",
       "      <td>0</td>\n",
       "    </tr>\n",
       "    <tr>\n",
       "      <th>145456</th>\n",
       "      <td>0</td>\n",
       "      <td>0</td>\n",
       "      <td>1</td>\n",
       "      <td>0</td>\n",
       "      <td>0</td>\n",
       "      <td>0</td>\n",
       "      <td>0</td>\n",
       "      <td>0</td>\n",
       "      <td>0</td>\n",
       "      <td>0</td>\n",
       "      <td>0</td>\n",
       "      <td>0</td>\n",
       "      <td>0</td>\n",
       "      <td>0</td>\n",
       "      <td>0</td>\n",
       "      <td>0</td>\n",
       "    </tr>\n",
       "    <tr>\n",
       "      <th>145457</th>\n",
       "      <td>0</td>\n",
       "      <td>0</td>\n",
       "      <td>0</td>\n",
       "      <td>0</td>\n",
       "      <td>0</td>\n",
       "      <td>0</td>\n",
       "      <td>0</td>\n",
       "      <td>0</td>\n",
       "      <td>0</td>\n",
       "      <td>0</td>\n",
       "      <td>0</td>\n",
       "      <td>0</td>\n",
       "      <td>0</td>\n",
       "      <td>1</td>\n",
       "      <td>0</td>\n",
       "      <td>0</td>\n",
       "    </tr>\n",
       "    <tr>\n",
       "      <th>145458</th>\n",
       "      <td>0</td>\n",
       "      <td>0</td>\n",
       "      <td>1</td>\n",
       "      <td>0</td>\n",
       "      <td>0</td>\n",
       "      <td>0</td>\n",
       "      <td>0</td>\n",
       "      <td>0</td>\n",
       "      <td>0</td>\n",
       "      <td>0</td>\n",
       "      <td>0</td>\n",
       "      <td>0</td>\n",
       "      <td>0</td>\n",
       "      <td>0</td>\n",
       "      <td>0</td>\n",
       "      <td>0</td>\n",
       "    </tr>\n",
       "  </tbody>\n",
       "</table>\n",
       "<p>142193 rows × 16 columns</p>\n",
       "</div>"
      ],
      "text/plain": [
       "        ENE  ESE  N  NE  NNE  NNW  NW  S  SE  SSE  SSW  SW  W  WNW  WSW  NaN\n",
       "0         0    0  0   0    0    0   0  0   0    0    0   0  0    1    0    0\n",
       "1         0    0  0   0    0    0   0  0   0    0    0   0  0    0    1    0\n",
       "2         0    0  0   0    0    0   0  0   0    0    0   0  0    0    1    0\n",
       "3         0    0  0   0    0    0   0  0   0    0    0   0  0    0    0    0\n",
       "4         0    0  0   0    0    0   1  0   0    0    0   0  0    0    0    0\n",
       "...     ...  ... ..  ..  ...  ...  .. ..  ..  ...  ...  .. ..  ...  ...  ...\n",
       "145454    0    0  0   0    0    0   0  0   0    0    0   0  0    0    0    0\n",
       "145455    1    0  0   0    0    0   0  0   0    0    0   0  0    0    0    0\n",
       "145456    0    0  1   0    0    0   0  0   0    0    0   0  0    0    0    0\n",
       "145457    0    0  0   0    0    0   0  0   0    0    0   0  0    1    0    0\n",
       "145458    0    0  1   0    0    0   0  0   0    0    0   0  0    0    0    0\n",
       "\n",
       "[142193 rows x 16 columns]"
      ]
     },
     "execution_count": 14,
     "metadata": {},
     "output_type": "execute_result"
    }
   ],
   "source": [
    "#create dummy variables for each of the wind variables\n",
    "pd.get_dummies(data.WindGustDir, drop_first=True, dummy_na=True)\n",
    "pd.get_dummies(data.WindDir9am, drop_first=True, dummy_na=True)\n",
    "pd.get_dummies(data.WindDir3pm, drop_first=True, dummy_na=True)"
   ]
  },
  {
   "cell_type": "code",
   "execution_count": 15,
   "metadata": {},
   "outputs": [
    {
     "data": {
      "text/html": [
       "<div>\n",
       "<style scoped>\n",
       "    .dataframe tbody tr th:only-of-type {\n",
       "        vertical-align: middle;\n",
       "    }\n",
       "\n",
       "    .dataframe tbody tr th {\n",
       "        vertical-align: top;\n",
       "    }\n",
       "\n",
       "    .dataframe thead th {\n",
       "        text-align: right;\n",
       "    }\n",
       "</style>\n",
       "<table border=\"1\" class=\"dataframe\">\n",
       "  <thead>\n",
       "    <tr style=\"text-align: right;\">\n",
       "      <th></th>\n",
       "      <th>Yes</th>\n",
       "      <th>NaN</th>\n",
       "    </tr>\n",
       "  </thead>\n",
       "  <tbody>\n",
       "    <tr>\n",
       "      <th>0</th>\n",
       "      <td>0</td>\n",
       "      <td>0</td>\n",
       "    </tr>\n",
       "    <tr>\n",
       "      <th>1</th>\n",
       "      <td>0</td>\n",
       "      <td>0</td>\n",
       "    </tr>\n",
       "    <tr>\n",
       "      <th>2</th>\n",
       "      <td>0</td>\n",
       "      <td>0</td>\n",
       "    </tr>\n",
       "    <tr>\n",
       "      <th>3</th>\n",
       "      <td>0</td>\n",
       "      <td>0</td>\n",
       "    </tr>\n",
       "    <tr>\n",
       "      <th>4</th>\n",
       "      <td>0</td>\n",
       "      <td>0</td>\n",
       "    </tr>\n",
       "    <tr>\n",
       "      <th>...</th>\n",
       "      <td>...</td>\n",
       "      <td>...</td>\n",
       "    </tr>\n",
       "    <tr>\n",
       "      <th>145454</th>\n",
       "      <td>0</td>\n",
       "      <td>0</td>\n",
       "    </tr>\n",
       "    <tr>\n",
       "      <th>145455</th>\n",
       "      <td>0</td>\n",
       "      <td>0</td>\n",
       "    </tr>\n",
       "    <tr>\n",
       "      <th>145456</th>\n",
       "      <td>0</td>\n",
       "      <td>0</td>\n",
       "    </tr>\n",
       "    <tr>\n",
       "      <th>145457</th>\n",
       "      <td>0</td>\n",
       "      <td>0</td>\n",
       "    </tr>\n",
       "    <tr>\n",
       "      <th>145458</th>\n",
       "      <td>0</td>\n",
       "      <td>0</td>\n",
       "    </tr>\n",
       "  </tbody>\n",
       "</table>\n",
       "<p>142193 rows × 2 columns</p>\n",
       "</div>"
      ],
      "text/plain": [
       "        Yes  NaN\n",
       "0         0    0\n",
       "1         0    0\n",
       "2         0    0\n",
       "3         0    0\n",
       "4         0    0\n",
       "...     ...  ...\n",
       "145454    0    0\n",
       "145455    0    0\n",
       "145456    0    0\n",
       "145457    0    0\n",
       "145458    0    0\n",
       "\n",
       "[142193 rows x 2 columns]"
      ]
     },
     "execution_count": 15,
     "metadata": {},
     "output_type": "execute_result"
    }
   ],
   "source": [
    "pd.get_dummies(data.RainToday, drop_first=True, dummy_na=True)"
   ]
  },
  {
   "cell_type": "code",
   "execution_count": 16,
   "metadata": {},
   "outputs": [
    {
     "name": "stdout",
     "output_type": "stream",
     "text": [
      "There are 15 numerical variables\n",
      "\n",
      "The numerical variables are : ['MinTemp', 'MaxTemp', 'Rainfall', 'WindGustSpeed', 'WindSpeed9am', 'WindSpeed3pm', 'Humidity9am', 'Humidity3pm', 'Pressure9am', 'Pressure3pm', 'Temp9am', 'Temp3pm', 'Year', 'Month', 'Day']\n"
     ]
    }
   ],
   "source": [
    "#Now explore numerical varaibles\n",
    "numerical = [var for var in data.columns if data[var].dtype!='O']\n",
    "print('There are {} numerical variables\\n'.format(len(numerical)))\n",
    "print('The numerical variables are :', numerical)"
   ]
  },
  {
   "cell_type": "code",
   "execution_count": 17,
   "metadata": {},
   "outputs": [
    {
     "data": {
      "text/plain": [
       "MinTemp            637\n",
       "MaxTemp            322\n",
       "Rainfall          1406\n",
       "WindGustSpeed     9270\n",
       "WindSpeed9am      1348\n",
       "WindSpeed3pm      2630\n",
       "Humidity9am       1774\n",
       "Humidity3pm       3610\n",
       "Pressure9am      14014\n",
       "Pressure3pm      13981\n",
       "Temp9am            904\n",
       "Temp3pm           2726\n",
       "Year                 0\n",
       "Month                0\n",
       "Day                  0\n",
       "dtype: int64"
      ]
     },
     "execution_count": 17,
     "metadata": {},
     "output_type": "execute_result"
    }
   ],
   "source": [
    "data[numerical].isnull().sum()"
   ]
  },
  {
   "cell_type": "code",
   "execution_count": 18,
   "metadata": {},
   "outputs": [
    {
     "name": "stdout",
     "output_type": "stream",
     "text": [
      "        MinTemp   MaxTemp  Rainfall  WindGustSpeed  WindSpeed9am  \\\n",
      "count  141556.0  141871.0  140787.0       132923.0      140845.0   \n",
      "mean       12.0      23.0       2.0           40.0          14.0   \n",
      "std         6.0       7.0       8.0           14.0           9.0   \n",
      "min        -8.0      -5.0       0.0            6.0           0.0   \n",
      "25%         8.0      18.0       0.0           31.0           7.0   \n",
      "50%        12.0      23.0       0.0           39.0          13.0   \n",
      "75%        17.0      28.0       1.0           48.0          19.0   \n",
      "max        34.0      48.0     371.0          135.0         130.0   \n",
      "\n",
      "       WindSpeed3pm  Humidity9am  Humidity3pm  Pressure9am  Pressure3pm  \\\n",
      "count      139563.0     140419.0     138583.0     128179.0     128212.0   \n",
      "mean           19.0         69.0         51.0       1018.0       1015.0   \n",
      "std             9.0         19.0         21.0          7.0          7.0   \n",
      "min             0.0          0.0          0.0        980.0        977.0   \n",
      "25%            13.0         57.0         37.0       1013.0       1010.0   \n",
      "50%            19.0         70.0         52.0       1018.0       1015.0   \n",
      "75%            24.0         83.0         66.0       1022.0       1020.0   \n",
      "max            87.0        100.0        100.0       1041.0       1040.0   \n",
      "\n",
      "        Temp9am   Temp3pm      Year     Month       Day  \n",
      "count  141289.0  139467.0  142193.0  142193.0  142193.0  \n",
      "mean       17.0      22.0    2013.0       6.0      16.0  \n",
      "std         6.0       7.0       3.0       3.0       9.0  \n",
      "min        -7.0      -5.0    2007.0       1.0       1.0  \n",
      "25%        12.0      17.0    2011.0       3.0       8.0  \n",
      "50%        17.0      21.0    2013.0       6.0      16.0  \n",
      "75%        22.0      26.0    2015.0       9.0      23.0  \n",
      "max        40.0      47.0    2017.0      12.0      31.0   2\n"
     ]
    }
   ],
   "source": [
    "#look at maximums and minimums\n",
    "print(round(data[numerical].describe()),2)"
   ]
  },
  {
   "cell_type": "code",
   "execution_count": 19,
   "metadata": {},
   "outputs": [
    {
     "data": {
      "text/plain": [
       "Text(0, 0.5, 'Pressure9am')"
      ]
     },
     "execution_count": 19,
     "metadata": {},
     "output_type": "execute_result"
    },
    {
     "data": {
      "image/png": "[encoded data removed]",
      "text/plain": [
       "<Figure size 1080x720 with 4 Axes>"
      ]
     },
     "metadata": {
      "needs_background": "light"
     },
     "output_type": "display_data"
    }
   ],
   "source": [
    "# draw boxplots to visualize outliers\n",
    "\n",
    "plt.figure(figsize=(15,10))\n",
    "\n",
    "\n",
    "plt.subplot(2, 2, 1)\n",
    "fig = data.boxplot(column='Rainfall')\n",
    "fig.set_title('')\n",
    "fig.set_ylabel('Rainfall')\n",
    "\n",
    "\n",
    "plt.subplot(2, 2, 2)\n",
    "fig = data.boxplot(column='WindSpeed9am')\n",
    "fig.set_title('')\n",
    "fig.set_ylabel('WindSpeed9am')\n",
    "\n",
    "\n",
    "plt.subplot(2, 2, 3)\n",
    "fig = data.boxplot(column='WindSpeed3pm')\n",
    "fig.set_title('')\n",
    "fig.set_ylabel('WindSpeed3pm')\n",
    "\n",
    "plt.subplot(2, 2, 4)\n",
    "fig = data.boxplot(column='Pressure9am')\n",
    "fig.set_title('')\n",
    "fig.set_ylabel('Pressure9am')"
   ]
  },
  {
   "cell_type": "code",
   "execution_count": 20,
   "metadata": {},
   "outputs": [
    {
     "data": {
      "text/plain": [
       "Text(0, 0.5, 'Pressure3pm')"
      ]
     },
     "execution_count": 20,
     "metadata": {},
     "output_type": "execute_result"
    },
    {
     "data": {
      "image/png": "[encoded data removed]",
      "text/plain": [
       "<Figure size 1080x720 with 1 Axes>"
      ]
     },
     "metadata": {
      "needs_background": "light"
     },
     "output_type": "display_data"
    }
   ],
   "source": [
    "plt.figure(figsize=(15,10))\n",
    "plt.subplot(2, 2, 1)\n",
    "fig = data.boxplot(column='Pressure3pm')\n",
    "fig.set_title('')\n",
    "fig.set_ylabel('Pressure3pm')"
   ]
  },
  {
   "cell_type": "code",
   "execution_count": 21,
   "metadata": {},
   "outputs": [
    {
     "data": {
      "text/plain": [
       "Text(0, 0.5, 'RainTomorrow')"
      ]
     },
     "execution_count": 21,
     "metadata": {},
     "output_type": "execute_result"
    },
    {
     "data": {
      "image/png": "[encoded data removed]",
      "text/plain": [
       "<Figure size 1080x720 with 3 Axes>"
      ]
     },
     "metadata": {
      "needs_background": "light"
     },
     "output_type": "display_data"
    }
   ],
   "source": [
    "# plot histogram to check distribution\n",
    "plt.figure(figsize=(15,10))\n",
    "\n",
    "plt.subplot(2, 2, 1)\n",
    "fig = data.Rainfall.hist(bins=10)\n",
    "fig.set_xlabel('Rainfall')\n",
    "fig.set_ylabel('RainTomorrow')\n",
    "\n",
    "plt.subplot(2, 2, 2)\n",
    "fig = data.WindSpeed9am.hist(bins=10)\n",
    "fig.set_xlabel('WindSpeed9am')\n",
    "fig.set_ylabel('RainTomorrow')\n",
    "\n",
    "plt.subplot(2, 2, 3)\n",
    "fig = data.WindSpeed3pm.hist(bins=10)\n",
    "fig.set_xlabel('WindSpeed3pm')\n",
    "fig.set_ylabel('RainTomorrow')"
   ]
  },
  {
   "cell_type": "code",
   "execution_count": 22,
   "metadata": {},
   "outputs": [
    {
     "data": {
      "text/plain": [
       "Text(0, 0.5, 'RainTomorrow')"
      ]
     },
     "execution_count": 22,
     "metadata": {},
     "output_type": "execute_result"
    },
    {
     "data": {
      "image/png": "[encoded data removed]",
      "text/plain": [
       "<Figure size 1080x720 with 2 Axes>"
      ]
     },
     "metadata": {
      "needs_background": "light"
     },
     "output_type": "display_data"
    }
   ],
   "source": [
    "plt.figure(figsize=(15,10))\n",
    "plt.subplot(2, 2, 1)\n",
    "fig = data.WindSpeed9am.hist(bins=10)\n",
    "fig.set_xlabel('Pressure9am')\n",
    "fig.set_ylabel('RainTomorrow')\n",
    "\n",
    "plt.subplot(2, 2, 2)\n",
    "fig = data.WindSpeed3pm.hist(bins=10)\n",
    "fig.set_xlabel('Pressure3pm')\n",
    "fig.set_ylabel('RainTomorrow')"
   ]
  },
  {
   "cell_type": "code",
   "execution_count": 23,
   "metadata": {},
   "outputs": [],
   "source": [
    "data['RainTomorrow'] = data['RainTomorrow'].map({'Yes': 1, 'No': 0})"
   ]
  },
  {
   "cell_type": "markdown",
   "metadata": {},
   "source": [
    "There are clear outiers and the data for these variables are skewed"
   ]
  },
  {
   "cell_type": "code",
   "execution_count": 24,
   "metadata": {},
   "outputs": [],
   "source": [
    "X = data.loc[:,data.columns != 'RainTomorrow']\n",
    "Y = data.loc[:,data.columns == 'RainTomorrow']\n",
    "X_train, X_test, Y_train, Y_test = train_test_split(X, Y, test_size=0.20, random_state=27)"
   ]
  },
  {
   "cell_type": "code",
   "execution_count": 25,
   "metadata": {},
   "outputs": [],
   "source": [
    "#addition for oversample experiment\n",
    "X_os = pd.concat([Y_train, X_train], axis=1)\n",
    "X_ds = pd.concat([Y_train, X_train], axis=1)"
   ]
  },
  {
   "cell_type": "code",
   "execution_count": 26,
   "metadata": {},
   "outputs": [
    {
     "data": {
      "text/plain": [
       "RainTomorrow         0\n",
       "Location             0\n",
       "MinTemp            517\n",
       "MaxTemp            252\n",
       "Rainfall          1116\n",
       "WindGustDir       7436\n",
       "WindGustSpeed     7388\n",
       "WindDir9am        8037\n",
       "WindDir3pm        3018\n",
       "WindSpeed9am      1090\n",
       "WindSpeed3pm      2097\n",
       "Humidity9am       1440\n",
       "Humidity3pm       2903\n",
       "Pressure9am      11271\n",
       "Pressure3pm      11233\n",
       "Temp9am            728\n",
       "Temp3pm           2189\n",
       "RainToday         1116\n",
       "Year                 0\n",
       "Month                0\n",
       "Day                  0\n",
       "dtype: int64"
      ]
     },
     "execution_count": 26,
     "metadata": {},
     "output_type": "execute_result"
    }
   ],
   "source": [
    "X_os.isnull().sum()"
   ]
  },
  {
   "cell_type": "code",
   "execution_count": 27,
   "metadata": {},
   "outputs": [
    {
     "data": {
      "text/plain": [
       "((113754, 20), (28439, 20), (113754, 21))"
      ]
     },
     "execution_count": 27,
     "metadata": {},
     "output_type": "execute_result"
    }
   ],
   "source": [
    "X_train.shape,X_test.shape,X_os.shape"
   ]
  },
  {
   "cell_type": "markdown",
   "metadata": {},
   "source": [
    "Start feature engineering"
   ]
  },
  {
   "cell_type": "code",
   "execution_count": 28,
   "metadata": {},
   "outputs": [
    {
     "data": {
      "text/plain": [
       "MinTemp            517\n",
       "MaxTemp            252\n",
       "Rainfall          1116\n",
       "WindGustSpeed     7388\n",
       "WindSpeed9am      1090\n",
       "WindSpeed3pm      2097\n",
       "Humidity9am       1440\n",
       "Humidity3pm       2903\n",
       "Pressure9am      11271\n",
       "Pressure3pm      11233\n",
       "Temp9am            728\n",
       "Temp3pm           2189\n",
       "Year                 0\n",
       "Month                0\n",
       "Day                  0\n",
       "dtype: int64"
      ]
     },
     "execution_count": 28,
     "metadata": {},
     "output_type": "execute_result"
    }
   ],
   "source": [
    "#Engineerng missing values in numerical variables\n",
    "X_train[numerical].isnull().sum()"
   ]
  },
  {
   "cell_type": "code",
   "execution_count": 29,
   "metadata": {},
   "outputs": [
    {
     "data": {
      "text/plain": [
       "MinTemp           120\n",
       "MaxTemp            70\n",
       "Rainfall          290\n",
       "WindGustSpeed    1882\n",
       "WindSpeed9am      258\n",
       "WindSpeed3pm      533\n",
       "Humidity9am       334\n",
       "Humidity3pm       707\n",
       "Pressure9am      2743\n",
       "Pressure3pm      2748\n",
       "Temp9am           176\n",
       "Temp3pm           537\n",
       "Year                0\n",
       "Month               0\n",
       "Day                 0\n",
       "dtype: int64"
      ]
     },
     "execution_count": 29,
     "metadata": {},
     "output_type": "execute_result"
    }
   ],
   "source": [
    "X_test[numerical].isnull().sum()"
   ]
  },
  {
   "cell_type": "code",
   "execution_count": 30,
   "metadata": {},
   "outputs": [
    {
     "data": {
      "text/plain": [
       "MinTemp            517\n",
       "MaxTemp            252\n",
       "Rainfall          1116\n",
       "WindGustSpeed     7388\n",
       "WindSpeed9am      1090\n",
       "WindSpeed3pm      2097\n",
       "Humidity9am       1440\n",
       "Humidity3pm       2903\n",
       "Pressure9am      11271\n",
       "Pressure3pm      11233\n",
       "Temp9am            728\n",
       "Temp3pm           2189\n",
       "Year                 0\n",
       "Month                0\n",
       "Day                  0\n",
       "dtype: int64"
      ]
     },
     "execution_count": 30,
     "metadata": {},
     "output_type": "execute_result"
    }
   ],
   "source": [
    "X_os[numerical].isnull().sum()"
   ]
  },
  {
   "cell_type": "code",
   "execution_count": 31,
   "metadata": {},
   "outputs": [
    {
     "data": {
      "text/plain": [
       "MinTemp            517\n",
       "MaxTemp            252\n",
       "Rainfall          1116\n",
       "WindGustSpeed     7388\n",
       "WindSpeed9am      1090\n",
       "WindSpeed3pm      2097\n",
       "Humidity9am       1440\n",
       "Humidity3pm       2903\n",
       "Pressure9am      11271\n",
       "Pressure3pm      11233\n",
       "Temp9am            728\n",
       "Temp3pm           2189\n",
       "Year                 0\n",
       "Month                0\n",
       "Day                  0\n",
       "dtype: int64"
      ]
     },
     "execution_count": 31,
     "metadata": {},
     "output_type": "execute_result"
    }
   ],
   "source": [
    "X_ds[numerical].isnull().sum()"
   ]
  },
  {
   "cell_type": "markdown",
   "metadata": {},
   "source": [
    "Assuming that the missing variables are completely random. Going to input median value into each null value since the mean value would be skewed by the outliers. Possible change is to calc median based off location not whole dataset"
   ]
  },
  {
   "cell_type": "code",
   "execution_count": 32,
   "metadata": {},
   "outputs": [
    {
     "name": "stderr",
     "output_type": "stream",
     "text": [
      "C:\\Users\\jcsan\\anaconda3\\lib\\site-packages\\pandas\\core\\series.py:4517: SettingWithCopyWarning: \n",
      "A value is trying to be set on a copy of a slice from a DataFrame\n",
      "\n",
      "See the caveats in the documentation: https://pandas.pydata.org/pandas-docs/stable/user_guide/indexing.html#returning-a-view-versus-a-copy\n",
      "  return super().fillna(\n"
     ]
    }
   ],
   "source": [
    "for df1 in [X_train, X_test, X_os, X_ds]:\n",
    "    for col in numerical:\n",
    "        col_median=X_train[col].median()\n",
    "        df1[col].fillna(col_median, inplace=True)    "
   ]
  },
  {
   "cell_type": "code",
   "execution_count": 33,
   "metadata": {},
   "outputs": [
    {
     "data": {
      "text/plain": [
       "MinTemp          0\n",
       "MaxTemp          0\n",
       "Rainfall         0\n",
       "WindGustSpeed    0\n",
       "WindSpeed9am     0\n",
       "WindSpeed3pm     0\n",
       "Humidity9am      0\n",
       "Humidity3pm      0\n",
       "Pressure9am      0\n",
       "Pressure3pm      0\n",
       "Temp9am          0\n",
       "Temp3pm          0\n",
       "Year             0\n",
       "Month            0\n",
       "Day              0\n",
       "dtype: int64"
      ]
     },
     "execution_count": 33,
     "metadata": {},
     "output_type": "execute_result"
    }
   ],
   "source": [
    "X_train[numerical].isnull().sum()"
   ]
  },
  {
   "cell_type": "code",
   "execution_count": 34,
   "metadata": {},
   "outputs": [
    {
     "data": {
      "text/plain": [
       "MinTemp          0\n",
       "MaxTemp          0\n",
       "Rainfall         0\n",
       "WindGustSpeed    0\n",
       "WindSpeed9am     0\n",
       "WindSpeed3pm     0\n",
       "Humidity9am      0\n",
       "Humidity3pm      0\n",
       "Pressure9am      0\n",
       "Pressure3pm      0\n",
       "Temp9am          0\n",
       "Temp3pm          0\n",
       "Year             0\n",
       "Month            0\n",
       "Day              0\n",
       "dtype: int64"
      ]
     },
     "execution_count": 34,
     "metadata": {},
     "output_type": "execute_result"
    }
   ],
   "source": [
    "X_test[numerical].isnull().sum()"
   ]
  },
  {
   "cell_type": "code",
   "execution_count": 35,
   "metadata": {},
   "outputs": [
    {
     "data": {
      "text/plain": [
       "MinTemp          0\n",
       "MaxTemp          0\n",
       "Rainfall         0\n",
       "WindGustSpeed    0\n",
       "WindSpeed9am     0\n",
       "WindSpeed3pm     0\n",
       "Humidity9am      0\n",
       "Humidity3pm      0\n",
       "Pressure9am      0\n",
       "Pressure3pm      0\n",
       "Temp9am          0\n",
       "Temp3pm          0\n",
       "Year             0\n",
       "Month            0\n",
       "Day              0\n",
       "dtype: int64"
      ]
     },
     "execution_count": 35,
     "metadata": {},
     "output_type": "execute_result"
    }
   ],
   "source": [
    "X_os[numerical].isnull().sum()"
   ]
  },
  {
   "cell_type": "code",
   "execution_count": 36,
   "metadata": {},
   "outputs": [
    {
     "data": {
      "text/plain": [
       "['Location', 'WindGustDir', 'WindDir9am', 'WindDir3pm', 'RainToday']"
      ]
     },
     "execution_count": 36,
     "metadata": {},
     "output_type": "execute_result"
    }
   ],
   "source": [
    "categorical = [col for col in X_train.columns if X_train[col].dtypes == 'O']\n",
    "categorical"
   ]
  },
  {
   "cell_type": "code",
   "execution_count": 37,
   "metadata": {},
   "outputs": [
    {
     "data": {
      "text/plain": [
       "Location          0\n",
       "WindGustDir    7436\n",
       "WindDir9am     8037\n",
       "WindDir3pm     3018\n",
       "RainToday      1116\n",
       "dtype: int64"
      ]
     },
     "execution_count": 37,
     "metadata": {},
     "output_type": "execute_result"
    }
   ],
   "source": [
    "X_train[categorical].isnull().sum()"
   ]
  },
  {
   "cell_type": "code",
   "execution_count": 38,
   "metadata": {},
   "outputs": [
    {
     "data": {
      "text/plain": [
       "Location          0\n",
       "WindGustDir    1894\n",
       "WindDir9am     1976\n",
       "WindDir3pm      760\n",
       "RainToday       290\n",
       "dtype: int64"
      ]
     },
     "execution_count": 38,
     "metadata": {},
     "output_type": "execute_result"
    }
   ],
   "source": [
    "X_test[categorical].isnull().sum()"
   ]
  },
  {
   "cell_type": "code",
   "execution_count": 39,
   "metadata": {},
   "outputs": [
    {
     "data": {
      "text/plain": [
       "Location          0\n",
       "WindGustDir    7436\n",
       "WindDir9am     8037\n",
       "WindDir3pm     3018\n",
       "RainToday      1116\n",
       "dtype: int64"
      ]
     },
     "execution_count": 39,
     "metadata": {},
     "output_type": "execute_result"
    }
   ],
   "source": [
    "X_os[categorical].isnull().sum()"
   ]
  },
  {
   "cell_type": "code",
   "execution_count": 40,
   "metadata": {},
   "outputs": [],
   "source": [
    "# put most common entry into null values\n",
    "\n",
    "for df2 in [X_train, X_test, X_os, X_ds]:\n",
    "    df2['WindGustDir'].fillna(X_train['WindGustDir'].mode()[0], inplace=True)\n",
    "    df2['WindDir9am'].fillna(X_train['WindDir9am'].mode()[0], inplace=True)\n",
    "    df2['WindDir3pm'].fillna(X_train['WindDir3pm'].mode()[0], inplace=True)\n",
    "    df2['RainToday'].fillna(X_train['RainToday'].mode()[0], inplace=True)"
   ]
  },
  {
   "cell_type": "code",
   "execution_count": 41,
   "metadata": {},
   "outputs": [
    {
     "data": {
      "text/plain": [
       "Location       0\n",
       "WindGustDir    0\n",
       "WindDir9am     0\n",
       "WindDir3pm     0\n",
       "RainToday      0\n",
       "dtype: int64"
      ]
     },
     "execution_count": 41,
     "metadata": {},
     "output_type": "execute_result"
    }
   ],
   "source": [
    "X_train[categorical].isnull().sum()"
   ]
  },
  {
   "cell_type": "code",
   "execution_count": 42,
   "metadata": {},
   "outputs": [
    {
     "data": {
      "text/plain": [
       "Location       0\n",
       "WindGustDir    0\n",
       "WindDir9am     0\n",
       "WindDir3pm     0\n",
       "RainToday      0\n",
       "dtype: int64"
      ]
     },
     "execution_count": 42,
     "metadata": {},
     "output_type": "execute_result"
    }
   ],
   "source": [
    "X_test[categorical].isnull().sum()"
   ]
  },
  {
   "cell_type": "code",
   "execution_count": 43,
   "metadata": {},
   "outputs": [
    {
     "data": {
      "text/plain": [
       "Location       0\n",
       "WindGustDir    0\n",
       "WindDir9am     0\n",
       "WindDir3pm     0\n",
       "RainToday      0\n",
       "dtype: int64"
      ]
     },
     "execution_count": 43,
     "metadata": {},
     "output_type": "execute_result"
    }
   ],
   "source": [
    "X_os[categorical].isnull().sum()"
   ]
  },
  {
   "cell_type": "code",
   "execution_count": 44,
   "metadata": {},
   "outputs": [
    {
     "data": {
      "text/plain": [
       "Location         0\n",
       "MinTemp          0\n",
       "MaxTemp          0\n",
       "Rainfall         0\n",
       "WindGustDir      0\n",
       "WindGustSpeed    0\n",
       "WindDir9am       0\n",
       "WindDir3pm       0\n",
       "WindSpeed9am     0\n",
       "WindSpeed3pm     0\n",
       "Humidity9am      0\n",
       "Humidity3pm      0\n",
       "Pressure9am      0\n",
       "Pressure3pm      0\n",
       "Temp9am          0\n",
       "Temp3pm          0\n",
       "RainToday        0\n",
       "Year             0\n",
       "Month            0\n",
       "Day              0\n",
       "dtype: int64"
      ]
     },
     "execution_count": 44,
     "metadata": {},
     "output_type": "execute_result"
    }
   ],
   "source": [
    "X_train.isnull().sum()"
   ]
  },
  {
   "cell_type": "code",
   "execution_count": 45,
   "metadata": {},
   "outputs": [
    {
     "data": {
      "text/plain": [
       "RainTomorrow     0\n",
       "Location         0\n",
       "MinTemp          0\n",
       "MaxTemp          0\n",
       "Rainfall         0\n",
       "WindGustDir      0\n",
       "WindGustSpeed    0\n",
       "WindDir9am       0\n",
       "WindDir3pm       0\n",
       "WindSpeed9am     0\n",
       "WindSpeed3pm     0\n",
       "Humidity9am      0\n",
       "Humidity3pm      0\n",
       "Pressure9am      0\n",
       "Pressure3pm      0\n",
       "Temp9am          0\n",
       "Temp3pm          0\n",
       "RainToday        0\n",
       "Year             0\n",
       "Month            0\n",
       "Day              0\n",
       "dtype: int64"
      ]
     },
     "execution_count": 45,
     "metadata": {},
     "output_type": "execute_result"
    }
   ],
   "source": [
    "X_os.isnull().sum()"
   ]
  },
  {
   "cell_type": "code",
   "execution_count": 46,
   "metadata": {},
   "outputs": [
    {
     "data": {
      "text/plain": [
       "(113754, 21)"
      ]
     },
     "execution_count": 46,
     "metadata": {},
     "output_type": "execute_result"
    }
   ],
   "source": [
    "X_os.shape"
   ]
  },
  {
   "cell_type": "code",
   "execution_count": 47,
   "metadata": {},
   "outputs": [
    {
     "name": "stderr",
     "output_type": "stream",
     "text": [
      "C:\\Users\\jcsan\\anaconda3\\lib\\site-packages\\category_encoders\\utils.py:21: FutureWarning: is_categorical is deprecated and will be removed in a future version.  Use is_categorical_dtype instead\n",
      "  elif pd.api.types.is_categorical(cols):\n",
      "C:\\Users\\jcsan\\anaconda3\\lib\\site-packages\\category_encoders\\utils.py:21: FutureWarning: is_categorical is deprecated and will be removed in a future version.  Use is_categorical_dtype instead\n",
      "  elif pd.api.types.is_categorical(cols):\n",
      "C:\\Users\\jcsan\\anaconda3\\lib\\site-packages\\category_encoders\\utils.py:21: FutureWarning: is_categorical is deprecated and will be removed in a future version.  Use is_categorical_dtype instead\n",
      "  elif pd.api.types.is_categorical(cols):\n"
     ]
    }
   ],
   "source": [
    "#adjust RainToday variable to account for NA values\n",
    "\n",
    "import category_encoders as ce\n",
    "\n",
    "encoder = ce.BinaryEncoder(cols=['RainToday'])\n",
    "\n",
    "X_train = encoder.fit_transform(X_train)\n",
    "\n",
    "X_test = encoder.transform(X_test)\n",
    "\n",
    "X_os = encoder.fit_transform(X_os)\n",
    "\n",
    "X_ds = encoder.fit_transform(X_ds)"
   ]
  },
  {
   "cell_type": "code",
   "execution_count": 48,
   "metadata": {},
   "outputs": [],
   "source": [
    "X_train = pd.concat([X_train[numerical], X_train[['RainToday_0', 'RainToday_1']],\n",
    "                     pd.get_dummies(X_train.Location), \n",
    "                     pd.get_dummies(X_train.WindGustDir),\n",
    "                     pd.get_dummies(X_train.WindDir9am),\n",
    "                     pd.get_dummies(X_train.WindDir3pm)], axis=1)"
   ]
  },
  {
   "cell_type": "code",
   "execution_count": 49,
   "metadata": {},
   "outputs": [],
   "source": [
    "X_test = pd.concat([X_test[numerical], X_test[['RainToday_0', 'RainToday_1']],\n",
    "                     pd.get_dummies(X_test.Location), \n",
    "                     pd.get_dummies(X_test.WindGustDir),\n",
    "                     pd.get_dummies(X_test.WindDir9am),\n",
    "                     pd.get_dummies(X_test.WindDir3pm)], axis=1)"
   ]
  },
  {
   "cell_type": "code",
   "execution_count": 50,
   "metadata": {},
   "outputs": [],
   "source": [
    "X_os = pd.concat([X_os[numerical], X_os[['RainToday_0', 'RainToday_1']],\n",
    "                     pd.get_dummies(X_os.Location), \n",
    "                     pd.get_dummies(X_os.WindGustDir),\n",
    "                     pd.get_dummies(X_os.WindDir9am),\n",
    "                     pd.get_dummies(X_os.WindDir3pm),\n",
    "                     X_os.RainTomorrow], axis=1)\n",
    "\n",
    "X_ds = pd.concat([X_ds[numerical], X_ds[['RainToday_0', 'RainToday_1']],\n",
    "                     pd.get_dummies(X_ds.Location), \n",
    "                     pd.get_dummies(X_ds.WindGustDir),\n",
    "                     pd.get_dummies(X_ds.WindDir9am),\n",
    "                     pd.get_dummies(X_ds.WindDir3pm),\n",
    "                     X_ds.RainTomorrow], axis=1)"
   ]
  },
  {
   "cell_type": "code",
   "execution_count": 51,
   "metadata": {},
   "outputs": [
    {
     "data": {
      "text/plain": [
       "(113754, 115)"
      ]
     },
     "execution_count": 51,
     "metadata": {},
     "output_type": "execute_result"
    }
   ],
   "source": [
    "X_os.shape"
   ]
  },
  {
   "cell_type": "code",
   "execution_count": 52,
   "metadata": {},
   "outputs": [],
   "source": [
    "col = X_train.columns"
   ]
  },
  {
   "cell_type": "code",
   "execution_count": 53,
   "metadata": {},
   "outputs": [],
   "source": [
    "#scaler_os = MinMaxScaler()\n",
    "#X_os = scaler_os.fit_transform(X_os)\n",
    "X_test_os = X_test\n",
    "X_test_ds = X_test"
   ]
  },
  {
   "cell_type": "code",
   "execution_count": 54,
   "metadata": {},
   "outputs": [],
   "source": [
    "scaler = MinMaxScaler()\n",
    "X_train = scaler.fit_transform(X_train)\n",
    "X_test = scaler.transform(X_test)"
   ]
  },
  {
   "cell_type": "code",
   "execution_count": 55,
   "metadata": {},
   "outputs": [],
   "source": [
    "X_train = pd.DataFrame(X_train, columns=[col])\n",
    "X_test = pd.DataFrame(X_test, columns=[col])\n",
    "\n",
    "#X_os = pd.DataFrame(X_os, columns=[col_os])"
   ]
  },
  {
   "cell_type": "code",
   "execution_count": 56,
   "metadata": {},
   "outputs": [
    {
     "data": {
      "text/html": [
       "<div>\n",
       "<style scoped>\n",
       "    .dataframe tbody tr th:only-of-type {\n",
       "        vertical-align: middle;\n",
       "    }\n",
       "\n",
       "    .dataframe tbody tr th {\n",
       "        vertical-align: top;\n",
       "    }\n",
       "\n",
       "    .dataframe thead tr th {\n",
       "        text-align: left;\n",
       "    }\n",
       "</style>\n",
       "<table border=\"1\" class=\"dataframe\">\n",
       "  <thead>\n",
       "    <tr>\n",
       "      <th></th>\n",
       "      <th>MinTemp</th>\n",
       "      <th>MaxTemp</th>\n",
       "      <th>Rainfall</th>\n",
       "      <th>WindGustSpeed</th>\n",
       "      <th>WindSpeed9am</th>\n",
       "      <th>WindSpeed3pm</th>\n",
       "      <th>Humidity9am</th>\n",
       "      <th>Humidity3pm</th>\n",
       "      <th>Pressure9am</th>\n",
       "      <th>Pressure3pm</th>\n",
       "      <th>...</th>\n",
       "      <th>NNW</th>\n",
       "      <th>NW</th>\n",
       "      <th>S</th>\n",
       "      <th>SE</th>\n",
       "      <th>SSE</th>\n",
       "      <th>SSW</th>\n",
       "      <th>SW</th>\n",
       "      <th>W</th>\n",
       "      <th>WNW</th>\n",
       "      <th>WSW</th>\n",
       "    </tr>\n",
       "  </thead>\n",
       "  <tbody>\n",
       "    <tr>\n",
       "      <th>count</th>\n",
       "      <td>113754.000000</td>\n",
       "      <td>113754.000000</td>\n",
       "      <td>113754.000000</td>\n",
       "      <td>113754.000000</td>\n",
       "      <td>113754.000000</td>\n",
       "      <td>113754.000000</td>\n",
       "      <td>113754.000000</td>\n",
       "      <td>113754.000000</td>\n",
       "      <td>113754.000000</td>\n",
       "      <td>113754.000000</td>\n",
       "      <td>...</td>\n",
       "      <td>113754.000000</td>\n",
       "      <td>113754.000000</td>\n",
       "      <td>113754.000000</td>\n",
       "      <td>113754.000000</td>\n",
       "      <td>113754.000000</td>\n",
       "      <td>113754.000000</td>\n",
       "      <td>113754.000000</td>\n",
       "      <td>113754.000000</td>\n",
       "      <td>113754.000000</td>\n",
       "      <td>113754.000000</td>\n",
       "    </tr>\n",
       "    <tr>\n",
       "      <th>mean</th>\n",
       "      <td>0.487693</td>\n",
       "      <td>0.537714</td>\n",
       "      <td>0.006348</td>\n",
       "      <td>0.262687</td>\n",
       "      <td>0.107717</td>\n",
       "      <td>0.214165</td>\n",
       "      <td>0.688945</td>\n",
       "      <td>0.515198</td>\n",
       "      <td>0.614228</td>\n",
       "      <td>0.610648</td>\n",
       "      <td>...</td>\n",
       "      <td>0.054345</td>\n",
       "      <td>0.059901</td>\n",
       "      <td>0.067409</td>\n",
       "      <td>0.102001</td>\n",
       "      <td>0.064050</td>\n",
       "      <td>0.056227</td>\n",
       "      <td>0.064270</td>\n",
       "      <td>0.069571</td>\n",
       "      <td>0.060675</td>\n",
       "      <td>0.065650</td>\n",
       "    </tr>\n",
       "    <tr>\n",
       "      <th>std</th>\n",
       "      <td>0.150712</td>\n",
       "      <td>0.136421</td>\n",
       "      <td>0.022906</td>\n",
       "      <td>0.101825</td>\n",
       "      <td>0.068143</td>\n",
       "      <td>0.100210</td>\n",
       "      <td>0.189413</td>\n",
       "      <td>0.205385</td>\n",
       "      <td>0.111341</td>\n",
       "      <td>0.106852</td>\n",
       "      <td>...</td>\n",
       "      <td>0.226699</td>\n",
       "      <td>0.237305</td>\n",
       "      <td>0.250729</td>\n",
       "      <td>0.302651</td>\n",
       "      <td>0.244844</td>\n",
       "      <td>0.230360</td>\n",
       "      <td>0.245235</td>\n",
       "      <td>0.254424</td>\n",
       "      <td>0.238734</td>\n",
       "      <td>0.247671</td>\n",
       "    </tr>\n",
       "    <tr>\n",
       "      <th>min</th>\n",
       "      <td>0.000000</td>\n",
       "      <td>0.000000</td>\n",
       "      <td>0.000000</td>\n",
       "      <td>0.000000</td>\n",
       "      <td>0.000000</td>\n",
       "      <td>0.000000</td>\n",
       "      <td>0.000000</td>\n",
       "      <td>0.000000</td>\n",
       "      <td>0.000000</td>\n",
       "      <td>0.000000</td>\n",
       "      <td>...</td>\n",
       "      <td>0.000000</td>\n",
       "      <td>0.000000</td>\n",
       "      <td>0.000000</td>\n",
       "      <td>0.000000</td>\n",
       "      <td>0.000000</td>\n",
       "      <td>0.000000</td>\n",
       "      <td>0.000000</td>\n",
       "      <td>0.000000</td>\n",
       "      <td>0.000000</td>\n",
       "      <td>0.000000</td>\n",
       "    </tr>\n",
       "    <tr>\n",
       "      <th>25%</th>\n",
       "      <td>0.379717</td>\n",
       "      <td>0.435701</td>\n",
       "      <td>0.000000</td>\n",
       "      <td>0.193798</td>\n",
       "      <td>0.053846</td>\n",
       "      <td>0.149425</td>\n",
       "      <td>0.570000</td>\n",
       "      <td>0.370000</td>\n",
       "      <td>0.545455</td>\n",
       "      <td>0.542400</td>\n",
       "      <td>...</td>\n",
       "      <td>0.000000</td>\n",
       "      <td>0.000000</td>\n",
       "      <td>0.000000</td>\n",
       "      <td>0.000000</td>\n",
       "      <td>0.000000</td>\n",
       "      <td>0.000000</td>\n",
       "      <td>0.000000</td>\n",
       "      <td>0.000000</td>\n",
       "      <td>0.000000</td>\n",
       "      <td>0.000000</td>\n",
       "    </tr>\n",
       "    <tr>\n",
       "      <th>50%</th>\n",
       "      <td>0.483491</td>\n",
       "      <td>0.525912</td>\n",
       "      <td>0.000000</td>\n",
       "      <td>0.255814</td>\n",
       "      <td>0.100000</td>\n",
       "      <td>0.218391</td>\n",
       "      <td>0.700000</td>\n",
       "      <td>0.520000</td>\n",
       "      <td>0.613223</td>\n",
       "      <td>0.609600</td>\n",
       "      <td>...</td>\n",
       "      <td>0.000000</td>\n",
       "      <td>0.000000</td>\n",
       "      <td>0.000000</td>\n",
       "      <td>0.000000</td>\n",
       "      <td>0.000000</td>\n",
       "      <td>0.000000</td>\n",
       "      <td>0.000000</td>\n",
       "      <td>0.000000</td>\n",
       "      <td>0.000000</td>\n",
       "      <td>0.000000</td>\n",
       "    </tr>\n",
       "    <tr>\n",
       "      <th>75%</th>\n",
       "      <td>0.596698</td>\n",
       "      <td>0.633397</td>\n",
       "      <td>0.001632</td>\n",
       "      <td>0.310078</td>\n",
       "      <td>0.146154</td>\n",
       "      <td>0.275862</td>\n",
       "      <td>0.830000</td>\n",
       "      <td>0.650000</td>\n",
       "      <td>0.682645</td>\n",
       "      <td>0.676800</td>\n",
       "      <td>...</td>\n",
       "      <td>0.000000</td>\n",
       "      <td>0.000000</td>\n",
       "      <td>0.000000</td>\n",
       "      <td>0.000000</td>\n",
       "      <td>0.000000</td>\n",
       "      <td>0.000000</td>\n",
       "      <td>0.000000</td>\n",
       "      <td>0.000000</td>\n",
       "      <td>0.000000</td>\n",
       "      <td>0.000000</td>\n",
       "    </tr>\n",
       "    <tr>\n",
       "      <th>max</th>\n",
       "      <td>1.000000</td>\n",
       "      <td>1.000000</td>\n",
       "      <td>1.000000</td>\n",
       "      <td>1.000000</td>\n",
       "      <td>1.000000</td>\n",
       "      <td>1.000000</td>\n",
       "      <td>1.000000</td>\n",
       "      <td>1.000000</td>\n",
       "      <td>1.000000</td>\n",
       "      <td>1.000000</td>\n",
       "      <td>...</td>\n",
       "      <td>1.000000</td>\n",
       "      <td>1.000000</td>\n",
       "      <td>1.000000</td>\n",
       "      <td>1.000000</td>\n",
       "      <td>1.000000</td>\n",
       "      <td>1.000000</td>\n",
       "      <td>1.000000</td>\n",
       "      <td>1.000000</td>\n",
       "      <td>1.000000</td>\n",
       "      <td>1.000000</td>\n",
       "    </tr>\n",
       "  </tbody>\n",
       "</table>\n",
       "<p>8 rows × 114 columns</p>\n",
       "</div>"
      ],
      "text/plain": [
       "             MinTemp        MaxTemp       Rainfall  WindGustSpeed  \\\n",
       "count  113754.000000  113754.000000  113754.000000  113754.000000   \n",
       "mean        0.487693       0.537714       0.006348       0.262687   \n",
       "std         0.150712       0.136421       0.022906       0.101825   \n",
       "min         0.000000       0.000000       0.000000       0.000000   \n",
       "25%         0.379717       0.435701       0.000000       0.193798   \n",
       "50%         0.483491       0.525912       0.000000       0.255814   \n",
       "75%         0.596698       0.633397       0.001632       0.310078   \n",
       "max         1.000000       1.000000       1.000000       1.000000   \n",
       "\n",
       "        WindSpeed9am   WindSpeed3pm    Humidity9am    Humidity3pm  \\\n",
       "count  113754.000000  113754.000000  113754.000000  113754.000000   \n",
       "mean        0.107717       0.214165       0.688945       0.515198   \n",
       "std         0.068143       0.100210       0.189413       0.205385   \n",
       "min         0.000000       0.000000       0.000000       0.000000   \n",
       "25%         0.053846       0.149425       0.570000       0.370000   \n",
       "50%         0.100000       0.218391       0.700000       0.520000   \n",
       "75%         0.146154       0.275862       0.830000       0.650000   \n",
       "max         1.000000       1.000000       1.000000       1.000000   \n",
       "\n",
       "         Pressure9am    Pressure3pm  ...            NNW             NW  \\\n",
       "count  113754.000000  113754.000000  ...  113754.000000  113754.000000   \n",
       "mean        0.614228       0.610648  ...       0.054345       0.059901   \n",
       "std         0.111341       0.106852  ...       0.226699       0.237305   \n",
       "min         0.000000       0.000000  ...       0.000000       0.000000   \n",
       "25%         0.545455       0.542400  ...       0.000000       0.000000   \n",
       "50%         0.613223       0.609600  ...       0.000000       0.000000   \n",
       "75%         0.682645       0.676800  ...       0.000000       0.000000   \n",
       "max         1.000000       1.000000  ...       1.000000       1.000000   \n",
       "\n",
       "                   S             SE            SSE            SSW  \\\n",
       "count  113754.000000  113754.000000  113754.000000  113754.000000   \n",
       "mean        0.067409       0.102001       0.064050       0.056227   \n",
       "std         0.250729       0.302651       0.244844       0.230360   \n",
       "min         0.000000       0.000000       0.000000       0.000000   \n",
       "25%         0.000000       0.000000       0.000000       0.000000   \n",
       "50%         0.000000       0.000000       0.000000       0.000000   \n",
       "75%         0.000000       0.000000       0.000000       0.000000   \n",
       "max         1.000000       1.000000       1.000000       1.000000   \n",
       "\n",
       "                  SW              W            WNW            WSW  \n",
       "count  113754.000000  113754.000000  113754.000000  113754.000000  \n",
       "mean        0.064270       0.069571       0.060675       0.065650  \n",
       "std         0.245235       0.254424       0.238734       0.247671  \n",
       "min         0.000000       0.000000       0.000000       0.000000  \n",
       "25%         0.000000       0.000000       0.000000       0.000000  \n",
       "50%         0.000000       0.000000       0.000000       0.000000  \n",
       "75%         0.000000       0.000000       0.000000       0.000000  \n",
       "max         1.000000       1.000000       1.000000       1.000000  \n",
       "\n",
       "[8 rows x 114 columns]"
      ]
     },
     "execution_count": 56,
     "metadata": {},
     "output_type": "execute_result"
    }
   ],
   "source": [
    "X_train.describe()"
   ]
  },
  {
   "cell_type": "code",
   "execution_count": 57,
   "metadata": {},
   "outputs": [
    {
     "data": {
      "text/html": [
       "<div>\n",
       "<style scoped>\n",
       "    .dataframe tbody tr th:only-of-type {\n",
       "        vertical-align: middle;\n",
       "    }\n",
       "\n",
       "    .dataframe tbody tr th {\n",
       "        vertical-align: top;\n",
       "    }\n",
       "\n",
       "    .dataframe thead th {\n",
       "        text-align: right;\n",
       "    }\n",
       "</style>\n",
       "<table border=\"1\" class=\"dataframe\">\n",
       "  <thead>\n",
       "    <tr style=\"text-align: right;\">\n",
       "      <th></th>\n",
       "      <th>RainTomorrow</th>\n",
       "    </tr>\n",
       "  </thead>\n",
       "  <tbody>\n",
       "    <tr>\n",
       "      <th>count</th>\n",
       "      <td>113754.00000</td>\n",
       "    </tr>\n",
       "    <tr>\n",
       "      <th>mean</th>\n",
       "      <td>0.22401</td>\n",
       "    </tr>\n",
       "    <tr>\n",
       "      <th>std</th>\n",
       "      <td>0.41693</td>\n",
       "    </tr>\n",
       "    <tr>\n",
       "      <th>min</th>\n",
       "      <td>0.00000</td>\n",
       "    </tr>\n",
       "    <tr>\n",
       "      <th>25%</th>\n",
       "      <td>0.00000</td>\n",
       "    </tr>\n",
       "    <tr>\n",
       "      <th>50%</th>\n",
       "      <td>0.00000</td>\n",
       "    </tr>\n",
       "    <tr>\n",
       "      <th>75%</th>\n",
       "      <td>0.00000</td>\n",
       "    </tr>\n",
       "    <tr>\n",
       "      <th>max</th>\n",
       "      <td>1.00000</td>\n",
       "    </tr>\n",
       "  </tbody>\n",
       "</table>\n",
       "</div>"
      ],
      "text/plain": [
       "       RainTomorrow\n",
       "count  113754.00000\n",
       "mean        0.22401\n",
       "std         0.41693\n",
       "min         0.00000\n",
       "25%         0.00000\n",
       "50%         0.00000\n",
       "75%         0.00000\n",
       "max         1.00000"
      ]
     },
     "execution_count": 57,
     "metadata": {},
     "output_type": "execute_result"
    }
   ],
   "source": [
    "Y_train.describe()"
   ]
  },
  {
   "cell_type": "code",
   "execution_count": 58,
   "metadata": {},
   "outputs": [
    {
     "name": "stderr",
     "output_type": "stream",
     "text": [
      "C:\\Users\\jcsan\\anaconda3\\lib\\site-packages\\sklearn\\utils\\validation.py:63: DataConversionWarning: A column-vector y was passed when a 1d array was expected. Please change the shape of y to (n_samples, ), for example using ravel().\n",
      "  return f(*args, **kwargs)\n"
     ]
    },
    {
     "data": {
      "text/plain": [
       "LogisticRegression(random_state=0, solver='liblinear')"
      ]
     },
     "execution_count": 58,
     "metadata": {},
     "output_type": "execute_result"
    }
   ],
   "source": [
    "# train a logistic regression model on the training set\n",
    "# instantiate the model\n",
    "logreg = LogisticRegression(solver='liblinear', random_state=0)\n",
    "\n",
    "\n",
    "# fit the model\n",
    "logreg.fit(X_train, Y_train)"
   ]
  },
  {
   "cell_type": "code",
   "execution_count": 59,
   "metadata": {},
   "outputs": [],
   "source": [
    "y_pred_test = logreg.predict(X_test)"
   ]
  },
  {
   "cell_type": "code",
   "execution_count": 60,
   "metadata": {},
   "outputs": [
    {
     "name": "stdout",
     "output_type": "stream",
     "text": [
      "Model accuracy score: 0.8423\n"
     ]
    }
   ],
   "source": [
    "print('Model accuracy score: {0:0.4f}'. format(accuracy_score(Y_test, y_pred_test)))"
   ]
  },
  {
   "cell_type": "code",
   "execution_count": 61,
   "metadata": {},
   "outputs": [
    {
     "name": "stdout",
     "output_type": "stream",
     "text": [
      "Training set score: 0.8463\n",
      "Test set score: 0.8423\n"
     ]
    }
   ],
   "source": [
    "# compare training and testing\n",
    "print('Training set score: {:.4f}'.format(logreg.score(X_train, Y_train)))\n",
    "print('Test set score: {:.4f}'.format(logreg.score(X_test, Y_test)))"
   ]
  },
  {
   "cell_type": "code",
   "execution_count": 62,
   "metadata": {},
   "outputs": [
    {
     "name": "stderr",
     "output_type": "stream",
     "text": [
      "C:\\Users\\jcsan\\anaconda3\\lib\\site-packages\\sklearn\\utils\\validation.py:63: DataConversionWarning: A column-vector y was passed when a 1d array was expected. Please change the shape of y to (n_samples, ), for example using ravel().\n",
      "  return f(*args, **kwargs)\n"
     ]
    },
    {
     "name": "stdout",
     "output_type": "stream",
     "text": [
      "my obtained accuracy on MLPClassifier: 0.8394809944090861\n"
     ]
    }
   ],
   "source": [
    "#train model 1\n",
    "from sklearn.neural_network import MLPClassifier\n",
    "from numpy import ravel\n",
    "\n",
    "#np.ravel(Y_test)\n",
    "#np.ravel(Y_train)\n",
    "\n",
    "clf = MLPClassifier(activation='logistic',solver='sgd', max_iter=10000, random_state=1)\n",
    "clf.fit(X_train, Y_train)\n",
    "accuracy = accuracy_score(clf.predict(X_test), Y_test)\n",
    "print('my obtained accuracy on MLPClassifier: {0}'.format(accuracy))"
   ]
  },
  {
   "cell_type": "code",
   "execution_count": 63,
   "metadata": {},
   "outputs": [
    {
     "name": "stderr",
     "output_type": "stream",
     "text": [
      "<ipython-input-63-e88eb4891560>:4: DataConversionWarning: A column-vector y was passed when a 1d array was expected. Please change the shape of y to (n_samples,), for example using ravel().\n",
      "  rfc.fit(X_train, Y_train)\n"
     ]
    },
    {
     "name": "stdout",
     "output_type": "stream",
     "text": [
      "my obtained accuracy on RandomForestsClassifier: 0.8502057034354232\n"
     ]
    }
   ],
   "source": [
    "from sklearn.ensemble import RandomForestClassifier\n",
    "\n",
    "rfc = RandomForestClassifier(random_state=0)\n",
    "rfc.fit(X_train, Y_train)\n",
    "accuracy = accuracy_score(rfc.predict(X_test), Y_test)\n",
    "print('my obtained accuracy on RandomForestsClassifier: {0}'.format(accuracy))"
   ]
  },
  {
   "cell_type": "code",
   "execution_count": 64,
   "metadata": {},
   "outputs": [
    {
     "data": {
      "text/plain": [
       "\"correlation = data.corr()\\nplt.figure(figsize=(16,12))\\nplt.title('Correlation Heatmap of Rain in Australia Dataset')\\nax = sns.heatmap(correlation, square=True, annot=True, fmt='.2f', linecolor='white')\\nax.set_xticklabels(ax.get_xticklabels(), rotation=90)\\nax.set_yticklabels(ax.get_yticklabels(), rotation=30)           \\nplt.show()\""
      ]
     },
     "execution_count": 64,
     "metadata": {},
     "output_type": "execute_result"
    }
   ],
   "source": [
    "\"\"\"correlation = data.corr()\n",
    "plt.figure(figsize=(16,12))\n",
    "plt.title('Correlation Heatmap of Rain in Australia Dataset')\n",
    "ax = sns.heatmap(correlation, square=True, annot=True, fmt='.2f', linecolor='white')\n",
    "ax.set_xticklabels(ax.get_xticklabels(), rotation=90)\n",
    "ax.set_yticklabels(ax.get_yticklabels(), rotation=30)           \n",
    "plt.show()\"\"\""
   ]
  },
  {
   "cell_type": "code",
   "execution_count": 65,
   "metadata": {},
   "outputs": [
    {
     "data": {
      "text/plain": [
       "\"num_var = ['MinTemp', 'MaxTemp', 'Temp9am', 'Temp3pm', 'WindGustSpeed', 'WindSpeed3pm', 'Pressure9am', 'Pressure3pm']\\nsns.pairplot(data[num_var], kind='scatter', diag_kind='hist', palette='Rainbow')\\nplt.show()\""
      ]
     },
     "execution_count": 65,
     "metadata": {},
     "output_type": "execute_result"
    }
   ],
   "source": [
    "\"\"\"num_var = ['MinTemp', 'MaxTemp', 'Temp9am', 'Temp3pm', 'WindGustSpeed', 'WindSpeed3pm', 'Pressure9am', 'Pressure3pm']\n",
    "sns.pairplot(data[num_var], kind='scatter', diag_kind='hist', palette='Rainbow')\n",
    "plt.show()\"\"\""
   ]
  },
  {
   "cell_type": "code",
   "execution_count": 66,
   "metadata": {},
   "outputs": [
    {
     "data": {
      "image/png": "[encoded data removed]",
      "text/plain": [
       "<Figure size 432x288 with 2 Axes>"
      ]
     },
     "metadata": {
      "needs_background": "light"
     },
     "output_type": "display_data"
    }
   ],
   "source": [
    "from sklearn.metrics import plot_confusion_matrix\n",
    "\n",
    "\n",
    "plot_confusion_matrix(clf, X_test, Y_test)\n",
    "plt.show()"
   ]
  },
  {
   "cell_type": "code",
   "execution_count": 67,
   "metadata": {},
   "outputs": [
    {
     "data": {
      "text/plain": [
       "<bound method NDFrame.describe of         RainTomorrow\n",
       "56024              0\n",
       "127325             1\n",
       "26527              1\n",
       "63346              1\n",
       "135253             0\n",
       "...              ...\n",
       "4928               1\n",
       "15221              0\n",
       "37370              1\n",
       "121387             0\n",
       "5225               0\n",
       "\n",
       "[113754 rows x 1 columns]>"
      ]
     },
     "execution_count": 67,
     "metadata": {},
     "output_type": "execute_result"
    }
   ],
   "source": [
    "Y_train.describe"
   ]
  },
  {
   "cell_type": "code",
   "execution_count": 68,
   "metadata": {},
   "outputs": [
    {
     "data": {
      "text/plain": [
       "<bound method NDFrame.describe of          MinTemp   MaxTemp  Rainfall WindGustSpeed WindSpeed9am WindSpeed3pm  \\\n",
       "0       0.285377  0.264875  0.015778      0.255814     0.084615     0.252874   \n",
       "1       0.509434  0.426104  0.016866      0.271318     0.069231     0.218391   \n",
       "2       0.474057  0.408829  0.000000      0.325581     0.169231     0.195402   \n",
       "3       0.443396  0.556622  0.000000      0.271318     0.046154     0.298851   \n",
       "4       0.353774  0.470250  0.000000      0.224806     0.000000     0.218391   \n",
       "...          ...       ...       ...           ...          ...          ...   \n",
       "113749  0.462264  0.422265  0.003264      0.193798     0.053846     0.126437   \n",
       "113750  0.502358  0.556622  0.000000      0.255814     0.069231     0.045977   \n",
       "113751  0.393868  0.539347  0.000000      0.426357     0.130769     0.149425   \n",
       "113752  0.299528  0.439539  0.000000      0.124031     0.069231     0.103448   \n",
       "113753  0.478774  0.560461  0.029380      0.155039     0.100000     0.126437   \n",
       "\n",
       "       Humidity9am Humidity3pm Pressure9am Pressure3pm  ...  NNW   NW    S  \\\n",
       "0             0.98        0.80    0.712397      0.7552  ...  0.0  0.0  0.0   \n",
       "1             0.99        0.63    0.614876      0.6208  ...  0.0  0.0  0.0   \n",
       "2             0.56        0.68    0.613223      0.6096  ...  0.0  0.0  0.0   \n",
       "3             0.81        0.40    0.573554      0.5328  ...  0.0  0.0  0.0   \n",
       "4             0.93        0.64    0.613223      0.6096  ...  0.0  0.0  0.0   \n",
       "...            ...         ...         ...         ...  ...  ...  ...  ...   \n",
       "113749        1.00        0.92    0.661157      0.6656  ...  0.0  0.0  0.0   \n",
       "113750        0.62        0.79    0.613223      0.6096  ...  0.0  1.0  0.0   \n",
       "113751        0.75        0.86    0.626446      0.5632  ...  0.0  0.0  0.0   \n",
       "113752        0.82        0.45    0.831405      0.8000  ...  0.0  0.0  0.0   \n",
       "113753        0.76        0.53    0.608264      0.6208  ...  0.0  0.0  0.0   \n",
       "\n",
       "         SE  SSE  SSW   SW    W  WNW  WSW  \n",
       "0       0.0  0.0  0.0  0.0  0.0  0.0  1.0  \n",
       "1       0.0  0.0  0.0  1.0  0.0  0.0  0.0  \n",
       "2       0.0  1.0  0.0  0.0  0.0  0.0  0.0  \n",
       "3       0.0  0.0  0.0  0.0  0.0  0.0  1.0  \n",
       "4       0.0  0.0  0.0  0.0  0.0  0.0  0.0  \n",
       "...     ...  ...  ...  ...  ...  ...  ...  \n",
       "113749  0.0  0.0  0.0  0.0  1.0  0.0  0.0  \n",
       "113750  0.0  0.0  0.0  0.0  0.0  0.0  0.0  \n",
       "113751  0.0  0.0  0.0  0.0  0.0  0.0  0.0  \n",
       "113752  0.0  0.0  0.0  0.0  0.0  0.0  0.0  \n",
       "113753  0.0  0.0  0.0  0.0  0.0  0.0  0.0  \n",
       "\n",
       "[113754 rows x 114 columns]>"
      ]
     },
     "execution_count": 68,
     "metadata": {},
     "output_type": "execute_result"
    }
   ],
   "source": [
    "X_train.describe"
   ]
  },
  {
   "cell_type": "code",
   "execution_count": 69,
   "metadata": {},
   "outputs": [
    {
     "data": {
      "text/plain": [
       "MinTemp          0\n",
       "MaxTemp          0\n",
       "Rainfall         0\n",
       "WindGustSpeed    0\n",
       "WindSpeed9am     0\n",
       "                ..\n",
       "SW               0\n",
       "W                0\n",
       "WNW              0\n",
       "WSW              0\n",
       "RainTomorrow     0\n",
       "Length: 115, dtype: int64"
      ]
     },
     "execution_count": 69,
     "metadata": {},
     "output_type": "execute_result"
    }
   ],
   "source": [
    "from sklearn.utils import resample\n",
    "#seperate minority and majority classes\n",
    "#X = X.dropna()\n",
    "\n",
    "X_os.isnull().sum()"
   ]
  },
  {
   "cell_type": "code",
   "execution_count": 70,
   "metadata": {},
   "outputs": [
    {
     "data": {
      "text/plain": [
       "(113754, 115)"
      ]
     },
     "execution_count": 70,
     "metadata": {},
     "output_type": "execute_result"
    }
   ],
   "source": [
    "X_os.shape"
   ]
  },
  {
   "cell_type": "code",
   "execution_count": 71,
   "metadata": {},
   "outputs": [
    {
     "data": {
      "text/plain": [
       "(113754, 114)"
      ]
     },
     "execution_count": 71,
     "metadata": {},
     "output_type": "execute_result"
    }
   ],
   "source": [
    "X_train.shape"
   ]
  },
  {
   "cell_type": "code",
   "execution_count": 72,
   "metadata": {},
   "outputs": [],
   "source": [
    "no = ['0']\n",
    "yes = ['1']"
   ]
  },
  {
   "cell_type": "code",
   "execution_count": 73,
   "metadata": {},
   "outputs": [
    {
     "data": {
      "text/html": [
       "<div>\n",
       "<style scoped>\n",
       "    .dataframe tbody tr th:only-of-type {\n",
       "        vertical-align: middle;\n",
       "    }\n",
       "\n",
       "    .dataframe tbody tr th {\n",
       "        vertical-align: top;\n",
       "    }\n",
       "\n",
       "    .dataframe thead th {\n",
       "        text-align: right;\n",
       "    }\n",
       "</style>\n",
       "<table border=\"1\" class=\"dataframe\">\n",
       "  <thead>\n",
       "    <tr style=\"text-align: right;\">\n",
       "      <th></th>\n",
       "      <th>MinTemp</th>\n",
       "      <th>MaxTemp</th>\n",
       "      <th>Rainfall</th>\n",
       "      <th>WindGustSpeed</th>\n",
       "      <th>WindSpeed9am</th>\n",
       "      <th>WindSpeed3pm</th>\n",
       "      <th>Humidity9am</th>\n",
       "      <th>Humidity3pm</th>\n",
       "      <th>Pressure9am</th>\n",
       "      <th>Pressure3pm</th>\n",
       "      <th>...</th>\n",
       "      <th>NW</th>\n",
       "      <th>S</th>\n",
       "      <th>SE</th>\n",
       "      <th>SSE</th>\n",
       "      <th>SSW</th>\n",
       "      <th>SW</th>\n",
       "      <th>W</th>\n",
       "      <th>WNW</th>\n",
       "      <th>WSW</th>\n",
       "      <th>RainTomorrow</th>\n",
       "    </tr>\n",
       "  </thead>\n",
       "  <tbody>\n",
       "    <tr>\n",
       "      <th>56024</th>\n",
       "      <td>3.6</td>\n",
       "      <td>9.0</td>\n",
       "      <td>5.8</td>\n",
       "      <td>39.0</td>\n",
       "      <td>11.0</td>\n",
       "      <td>22.0</td>\n",
       "      <td>98.0</td>\n",
       "      <td>80.0</td>\n",
       "      <td>1023.6</td>\n",
       "      <td>1024.3</td>\n",
       "      <td>...</td>\n",
       "      <td>0</td>\n",
       "      <td>0</td>\n",
       "      <td>0</td>\n",
       "      <td>0</td>\n",
       "      <td>0</td>\n",
       "      <td>0</td>\n",
       "      <td>0</td>\n",
       "      <td>0</td>\n",
       "      <td>1</td>\n",
       "      <td>0</td>\n",
       "    </tr>\n",
       "    <tr>\n",
       "      <th>127325</th>\n",
       "      <td>13.1</td>\n",
       "      <td>17.4</td>\n",
       "      <td>6.2</td>\n",
       "      <td>41.0</td>\n",
       "      <td>9.0</td>\n",
       "      <td>19.0</td>\n",
       "      <td>99.0</td>\n",
       "      <td>63.0</td>\n",
       "      <td>1017.7</td>\n",
       "      <td>1015.9</td>\n",
       "      <td>...</td>\n",
       "      <td>0</td>\n",
       "      <td>0</td>\n",
       "      <td>0</td>\n",
       "      <td>0</td>\n",
       "      <td>0</td>\n",
       "      <td>1</td>\n",
       "      <td>0</td>\n",
       "      <td>0</td>\n",
       "      <td>0</td>\n",
       "      <td>1</td>\n",
       "    </tr>\n",
       "    <tr>\n",
       "      <th>26527</th>\n",
       "      <td>11.6</td>\n",
       "      <td>16.5</td>\n",
       "      <td>0.0</td>\n",
       "      <td>48.0</td>\n",
       "      <td>22.0</td>\n",
       "      <td>17.0</td>\n",
       "      <td>56.0</td>\n",
       "      <td>68.0</td>\n",
       "      <td>1017.6</td>\n",
       "      <td>1015.2</td>\n",
       "      <td>...</td>\n",
       "      <td>0</td>\n",
       "      <td>0</td>\n",
       "      <td>0</td>\n",
       "      <td>1</td>\n",
       "      <td>0</td>\n",
       "      <td>0</td>\n",
       "      <td>0</td>\n",
       "      <td>0</td>\n",
       "      <td>0</td>\n",
       "      <td>1</td>\n",
       "    </tr>\n",
       "    <tr>\n",
       "      <th>63346</th>\n",
       "      <td>10.3</td>\n",
       "      <td>24.2</td>\n",
       "      <td>0.0</td>\n",
       "      <td>41.0</td>\n",
       "      <td>6.0</td>\n",
       "      <td>26.0</td>\n",
       "      <td>81.0</td>\n",
       "      <td>40.0</td>\n",
       "      <td>1015.2</td>\n",
       "      <td>1010.4</td>\n",
       "      <td>...</td>\n",
       "      <td>0</td>\n",
       "      <td>0</td>\n",
       "      <td>0</td>\n",
       "      <td>0</td>\n",
       "      <td>0</td>\n",
       "      <td>0</td>\n",
       "      <td>0</td>\n",
       "      <td>0</td>\n",
       "      <td>1</td>\n",
       "      <td>1</td>\n",
       "    </tr>\n",
       "    <tr>\n",
       "      <th>135253</th>\n",
       "      <td>6.5</td>\n",
       "      <td>19.7</td>\n",
       "      <td>0.0</td>\n",
       "      <td>35.0</td>\n",
       "      <td>0.0</td>\n",
       "      <td>19.0</td>\n",
       "      <td>93.0</td>\n",
       "      <td>64.0</td>\n",
       "      <td>1017.6</td>\n",
       "      <td>1015.2</td>\n",
       "      <td>...</td>\n",
       "      <td>0</td>\n",
       "      <td>0</td>\n",
       "      <td>0</td>\n",
       "      <td>0</td>\n",
       "      <td>0</td>\n",
       "      <td>0</td>\n",
       "      <td>0</td>\n",
       "      <td>0</td>\n",
       "      <td>0</td>\n",
       "      <td>0</td>\n",
       "    </tr>\n",
       "    <tr>\n",
       "      <th>...</th>\n",
       "      <td>...</td>\n",
       "      <td>...</td>\n",
       "      <td>...</td>\n",
       "      <td>...</td>\n",
       "      <td>...</td>\n",
       "      <td>...</td>\n",
       "      <td>...</td>\n",
       "      <td>...</td>\n",
       "      <td>...</td>\n",
       "      <td>...</td>\n",
       "      <td>...</td>\n",
       "      <td>...</td>\n",
       "      <td>...</td>\n",
       "      <td>...</td>\n",
       "      <td>...</td>\n",
       "      <td>...</td>\n",
       "      <td>...</td>\n",
       "      <td>...</td>\n",
       "      <td>...</td>\n",
       "      <td>...</td>\n",
       "      <td>...</td>\n",
       "    </tr>\n",
       "    <tr>\n",
       "      <th>4928</th>\n",
       "      <td>11.1</td>\n",
       "      <td>17.2</td>\n",
       "      <td>1.2</td>\n",
       "      <td>31.0</td>\n",
       "      <td>7.0</td>\n",
       "      <td>11.0</td>\n",
       "      <td>100.0</td>\n",
       "      <td>92.0</td>\n",
       "      <td>1020.5</td>\n",
       "      <td>1018.7</td>\n",
       "      <td>...</td>\n",
       "      <td>0</td>\n",
       "      <td>0</td>\n",
       "      <td>0</td>\n",
       "      <td>0</td>\n",
       "      <td>0</td>\n",
       "      <td>0</td>\n",
       "      <td>1</td>\n",
       "      <td>0</td>\n",
       "      <td>0</td>\n",
       "      <td>1</td>\n",
       "    </tr>\n",
       "    <tr>\n",
       "      <th>15221</th>\n",
       "      <td>12.8</td>\n",
       "      <td>24.2</td>\n",
       "      <td>0.0</td>\n",
       "      <td>39.0</td>\n",
       "      <td>9.0</td>\n",
       "      <td>4.0</td>\n",
       "      <td>62.0</td>\n",
       "      <td>79.0</td>\n",
       "      <td>1017.6</td>\n",
       "      <td>1015.2</td>\n",
       "      <td>...</td>\n",
       "      <td>1</td>\n",
       "      <td>0</td>\n",
       "      <td>0</td>\n",
       "      <td>0</td>\n",
       "      <td>0</td>\n",
       "      <td>0</td>\n",
       "      <td>0</td>\n",
       "      <td>0</td>\n",
       "      <td>0</td>\n",
       "      <td>0</td>\n",
       "    </tr>\n",
       "    <tr>\n",
       "      <th>37370</th>\n",
       "      <td>8.2</td>\n",
       "      <td>23.3</td>\n",
       "      <td>0.0</td>\n",
       "      <td>61.0</td>\n",
       "      <td>17.0</td>\n",
       "      <td>13.0</td>\n",
       "      <td>75.0</td>\n",
       "      <td>86.0</td>\n",
       "      <td>1018.4</td>\n",
       "      <td>1012.3</td>\n",
       "      <td>...</td>\n",
       "      <td>0</td>\n",
       "      <td>0</td>\n",
       "      <td>0</td>\n",
       "      <td>0</td>\n",
       "      <td>0</td>\n",
       "      <td>0</td>\n",
       "      <td>0</td>\n",
       "      <td>0</td>\n",
       "      <td>0</td>\n",
       "      <td>1</td>\n",
       "    </tr>\n",
       "    <tr>\n",
       "      <th>121387</th>\n",
       "      <td>4.2</td>\n",
       "      <td>18.1</td>\n",
       "      <td>0.0</td>\n",
       "      <td>22.0</td>\n",
       "      <td>9.0</td>\n",
       "      <td>9.0</td>\n",
       "      <td>82.0</td>\n",
       "      <td>45.0</td>\n",
       "      <td>1030.8</td>\n",
       "      <td>1027.1</td>\n",
       "      <td>...</td>\n",
       "      <td>0</td>\n",
       "      <td>0</td>\n",
       "      <td>0</td>\n",
       "      <td>0</td>\n",
       "      <td>0</td>\n",
       "      <td>0</td>\n",
       "      <td>0</td>\n",
       "      <td>0</td>\n",
       "      <td>0</td>\n",
       "      <td>0</td>\n",
       "    </tr>\n",
       "    <tr>\n",
       "      <th>5225</th>\n",
       "      <td>11.8</td>\n",
       "      <td>24.4</td>\n",
       "      <td>10.8</td>\n",
       "      <td>26.0</td>\n",
       "      <td>13.0</td>\n",
       "      <td>11.0</td>\n",
       "      <td>76.0</td>\n",
       "      <td>53.0</td>\n",
       "      <td>1017.3</td>\n",
       "      <td>1015.9</td>\n",
       "      <td>...</td>\n",
       "      <td>0</td>\n",
       "      <td>0</td>\n",
       "      <td>0</td>\n",
       "      <td>0</td>\n",
       "      <td>0</td>\n",
       "      <td>0</td>\n",
       "      <td>0</td>\n",
       "      <td>0</td>\n",
       "      <td>0</td>\n",
       "      <td>0</td>\n",
       "    </tr>\n",
       "  </tbody>\n",
       "</table>\n",
       "<p>113754 rows × 115 columns</p>\n",
       "</div>"
      ],
      "text/plain": [
       "        MinTemp  MaxTemp  Rainfall  WindGustSpeed  WindSpeed9am  WindSpeed3pm  \\\n",
       "56024       3.6      9.0       5.8           39.0          11.0          22.0   \n",
       "127325     13.1     17.4       6.2           41.0           9.0          19.0   \n",
       "26527      11.6     16.5       0.0           48.0          22.0          17.0   \n",
       "63346      10.3     24.2       0.0           41.0           6.0          26.0   \n",
       "135253      6.5     19.7       0.0           35.0           0.0          19.0   \n",
       "...         ...      ...       ...            ...           ...           ...   \n",
       "4928       11.1     17.2       1.2           31.0           7.0          11.0   \n",
       "15221      12.8     24.2       0.0           39.0           9.0           4.0   \n",
       "37370       8.2     23.3       0.0           61.0          17.0          13.0   \n",
       "121387      4.2     18.1       0.0           22.0           9.0           9.0   \n",
       "5225       11.8     24.4      10.8           26.0          13.0          11.0   \n",
       "\n",
       "        Humidity9am  Humidity3pm  Pressure9am  Pressure3pm  ...  NW  S  SE  \\\n",
       "56024          98.0         80.0       1023.6       1024.3  ...   0  0   0   \n",
       "127325         99.0         63.0       1017.7       1015.9  ...   0  0   0   \n",
       "26527          56.0         68.0       1017.6       1015.2  ...   0  0   0   \n",
       "63346          81.0         40.0       1015.2       1010.4  ...   0  0   0   \n",
       "135253         93.0         64.0       1017.6       1015.2  ...   0  0   0   \n",
       "...             ...          ...          ...          ...  ...  .. ..  ..   \n",
       "4928          100.0         92.0       1020.5       1018.7  ...   0  0   0   \n",
       "15221          62.0         79.0       1017.6       1015.2  ...   1  0   0   \n",
       "37370          75.0         86.0       1018.4       1012.3  ...   0  0   0   \n",
       "121387         82.0         45.0       1030.8       1027.1  ...   0  0   0   \n",
       "5225           76.0         53.0       1017.3       1015.9  ...   0  0   0   \n",
       "\n",
       "        SSE  SSW  SW  W  WNW  WSW  RainTomorrow  \n",
       "56024     0    0   0  0    0    1             0  \n",
       "127325    0    0   1  0    0    0             1  \n",
       "26527     1    0   0  0    0    0             1  \n",
       "63346     0    0   0  0    0    1             1  \n",
       "135253    0    0   0  0    0    0             0  \n",
       "...     ...  ...  .. ..  ...  ...           ...  \n",
       "4928      0    0   0  1    0    0             1  \n",
       "15221     0    0   0  0    0    0             0  \n",
       "37370     0    0   0  0    0    0             1  \n",
       "121387    0    0   0  0    0    0             0  \n",
       "5225      0    0   0  0    0    0             0  \n",
       "\n",
       "[113754 rows x 115 columns]"
      ]
     },
     "execution_count": 73,
     "metadata": {},
     "output_type": "execute_result"
    }
   ],
   "source": [
    "X_os"
   ]
  },
  {
   "cell_type": "code",
   "execution_count": 74,
   "metadata": {},
   "outputs": [
    {
     "data": {
      "text/plain": [
       "((88272, 115), (25482, 115))"
      ]
     },
     "execution_count": 74,
     "metadata": {},
     "output_type": "execute_result"
    }
   ],
   "source": [
    "no_rain_tomorrow = X_os[X_os.RainTomorrow.isin(no)]\n",
    "rain_tomorrow = X_os[X_os.RainTomorrow.isin(yes)]\n",
    "\n",
    "no_rain_tomorrow.shape, rain_tomorrow.shape"
   ]
  },
  {
   "cell_type": "code",
   "execution_count": 75,
   "metadata": {},
   "outputs": [
    {
     "data": {
      "text/plain": [
       "1    88272\n",
       "0    88272\n",
       "Name: RainTomorrow, dtype: int64"
      ]
     },
     "execution_count": 75,
     "metadata": {},
     "output_type": "execute_result"
    }
   ],
   "source": [
    "upsample = resample(rain_tomorrow, replace = True, n_samples = int(len(no_rain_tomorrow)), random_state=27)\n",
    "\n",
    "upsample_data = pd.concat([no_rain_tomorrow, upsample])\n",
    "upsample_data.RainTomorrow.value_counts()"
   ]
  },
  {
   "cell_type": "code",
   "execution_count": 76,
   "metadata": {},
   "outputs": [
    {
     "data": {
      "text/plain": [
       "1    25482\n",
       "0    25482\n",
       "Name: RainTomorrow, dtype: int64"
      ]
     },
     "execution_count": 76,
     "metadata": {},
     "output_type": "execute_result"
    }
   ],
   "source": [
    "downsample = resample(no_rain_tomorrow, replace = True, n_samples = int(len(rain_tomorrow)), random_state=27)\n",
    "downsample_data = pd.concat([downsample, rain_tomorrow])\n",
    "downsample_data.RainTomorrow.value_counts()"
   ]
  },
  {
   "cell_type": "code",
   "execution_count": 77,
   "metadata": {},
   "outputs": [
    {
     "data": {
      "text/plain": [
       "((176544,), (176544, 114))"
      ]
     },
     "execution_count": 77,
     "metadata": {},
     "output_type": "execute_result"
    }
   ],
   "source": [
    "y_train_upsample = upsample_data.RainTomorrow\n",
    "X_train_upsample = upsample_data.drop('RainTomorrow', axis=1)\n",
    "y_train_upsample.shape, X_train_upsample.shape"
   ]
  },
  {
   "cell_type": "code",
   "execution_count": 78,
   "metadata": {},
   "outputs": [
    {
     "data": {
      "text/plain": [
       "((50964,), (50964, 114))"
      ]
     },
     "execution_count": 78,
     "metadata": {},
     "output_type": "execute_result"
    }
   ],
   "source": [
    "y_train_downsample = downsample_data.RainTomorrow\n",
    "X_train_downsample = downsample_data.drop('RainTomorrow', axis=1)\n",
    "y_train_downsample.shape, X_train_downsample.shape"
   ]
  },
  {
   "cell_type": "code",
   "execution_count": 79,
   "metadata": {},
   "outputs": [
    {
     "data": {
      "text/plain": [
       "'#test is standard better than MinMax\\nfrom sklearn.preprocessing import StandardScaler\\n\\n\\nscaler = MinMaxScaler()\\nX_train_upsample = scaler.fit_transform(X_train_upsample)\\nX_test_os = scaler.transform(X_test_os)'"
      ]
     },
     "execution_count": 79,
     "metadata": {},
     "output_type": "execute_result"
    }
   ],
   "source": [
    "\"\"\"#test is standard better than MinMax\n",
    "from sklearn.preprocessing import StandardScaler\n",
    "\n",
    "\n",
    "scaler = MinMaxScaler()\n",
    "X_train_upsample = scaler.fit_transform(X_train_upsample)\n",
    "X_test_os = scaler.transform(X_test_os)\"\"\""
   ]
  },
  {
   "cell_type": "code",
   "execution_count": 80,
   "metadata": {},
   "outputs": [
    {
     "name": "stdout",
     "output_type": "stream",
     "text": [
      "my obtained accuracy on RandomForestsClassifier: 0.8521748303386195\n"
     ]
    }
   ],
   "source": [
    "rfc_upsample = RandomForestClassifier(random_state=0)\n",
    "rfc_upsample.fit(X_train_upsample, y_train_upsample)\n",
    "accuracy = accuracy_score(rfc_upsample.predict(X_test_os), Y_test)\n",
    "print('my obtained accuracy on RandomForestsClassifier: {0}'.format(accuracy))"
   ]
  },
  {
   "cell_type": "code",
   "execution_count": 81,
   "metadata": {},
   "outputs": [
    {
     "data": {
      "image/png": "[encoded data removed]",
      "text/plain": [
       "<Figure size 432x288 with 2 Axes>"
      ]
     },
     "metadata": {
      "needs_background": "light"
     },
     "output_type": "display_data"
    }
   ],
   "source": [
    "plot_confusion_matrix(rfc_upsample, X_test_os, Y_test)\n",
    "plt.show()"
   ]
  },
  {
   "cell_type": "code",
   "execution_count": 82,
   "metadata": {},
   "outputs": [
    {
     "name": "stdout",
     "output_type": "stream",
     "text": [
      "Model accuracy score: 0.7874\n"
     ]
    }
   ],
   "source": [
    "logreg_upsample = LogisticRegression(solver='liblinear', random_state=0)\n",
    "# fit the model\n",
    "logreg_upsample.fit(X_train_upsample, y_train_upsample)\n",
    "y_pred_test_2 = logreg_upsample.predict(X_test_os)\n",
    "print('Model accuracy score: {0:0.4f}'. format(accuracy_score(Y_test, y_pred_test_2)))"
   ]
  },
  {
   "cell_type": "code",
   "execution_count": 83,
   "metadata": {},
   "outputs": [
    {
     "data": {
      "image/png": "[encoded data removed]",
      "text/plain": [
       "<Figure size 432x288 with 2 Axes>"
      ]
     },
     "metadata": {
      "needs_background": "light"
     },
     "output_type": "display_data"
    }
   ],
   "source": [
    "plot_confusion_matrix(logreg_upsample, X_test_os, Y_test)\n",
    "plt.show()"
   ]
  },
  {
   "cell_type": "code",
   "execution_count": 84,
   "metadata": {},
   "outputs": [],
   "source": [
    "import keras\n",
    "from keras.models import Sequential\n",
    "from keras.layers.core import Dense, Dropout\n",
    "from keras.layers import InputLayer\n",
    "from keras.optimizers import Adam\n",
    "\n",
    "from keras.wrappers.scikit_learn import KerasClassifier\n",
    "from sklearn.model_selection import cross_val_score\n",
    "from sklearn.model_selection import StratifiedKFold\n",
    "from sklearn.metrics import classification_report, confusion_matrix"
   ]
  },
  {
   "cell_type": "code",
   "execution_count": 85,
   "metadata": {},
   "outputs": [
    {
     "data": {
      "text/plain": [
       "((176544,), (176544, 114))"
      ]
     },
     "execution_count": 85,
     "metadata": {},
     "output_type": "execute_result"
    }
   ],
   "source": [
    "y_train_upsample.shape, X_train_upsample.shape"
   ]
  },
  {
   "cell_type": "code",
   "execution_count": 86,
   "metadata": {},
   "outputs": [],
   "source": [
    "input_shape = (114)"
   ]
  },
  {
   "cell_type": "code",
   "execution_count": 87,
   "metadata": {},
   "outputs": [
    {
     "name": "stdout",
     "output_type": "stream",
     "text": [
      "Epoch 1/20\n",
      "1778/1778 [==============================] - 4s 2ms/step - loss: 0.4251 - accuracy: 0.8145 - auc: 0.7884\n",
      "Epoch 2/20\n",
      "1778/1778 [==============================] - 3s 2ms/step - loss: 0.3595 - accuracy: 0.8473 - auc: 0.8624\n",
      "Epoch 3/20\n",
      "1778/1778 [==============================] - 3s 2ms/step - loss: 0.3486 - accuracy: 0.8524 - auc: 0.8727\n",
      "Epoch 4/20\n",
      "1778/1778 [==============================] - 3s 2ms/step - loss: 0.3385 - accuracy: 0.8548 - auc: 0.8798\n",
      "Epoch 5/20\n",
      "1778/1778 [==============================] - 3s 2ms/step - loss: 0.3380 - accuracy: 0.8573 - auc: 0.8807\n",
      "Epoch 6/20\n",
      "1778/1778 [==============================] - 3s 2ms/step - loss: 0.3325 - accuracy: 0.8582 - auc: 0.8860\n",
      "Epoch 7/20\n",
      "1778/1778 [==============================] - 3s 2ms/step - loss: 0.3276 - accuracy: 0.8608 - auc: 0.8891\n",
      "Epoch 8/20\n",
      "1778/1778 [==============================] - 3s 2ms/step - loss: 0.3275 - accuracy: 0.8606 - auc: 0.8884\n",
      "Epoch 9/20\n",
      "1778/1778 [==============================] - 3s 2ms/step - loss: 0.3240 - accuracy: 0.8619 - auc: 0.8910\n",
      "Epoch 10/20\n",
      "1778/1778 [==============================] - 3s 2ms/step - loss: 0.3238 - accuracy: 0.8610 - auc: 0.8936\n",
      "Epoch 11/20\n",
      "1778/1778 [==============================] - 3s 2ms/step - loss: 0.3208 - accuracy: 0.8634 - auc: 0.8948\n",
      "Epoch 12/20\n",
      "1778/1778 [==============================] - 3s 2ms/step - loss: 0.3186 - accuracy: 0.8648 - auc: 0.8947\n",
      "Epoch 13/20\n",
      "1778/1778 [==============================] - 3s 2ms/step - loss: 0.3196 - accuracy: 0.8639 - auc: 0.8955\n",
      "Epoch 14/20\n",
      "1778/1778 [==============================] - 3s 2ms/step - loss: 0.3149 - accuracy: 0.8648 - auc: 0.8980\n",
      "Epoch 15/20\n",
      "1778/1778 [==============================] - 3s 2ms/step - loss: 0.3138 - accuracy: 0.8656 - auc: 0.8982\n",
      "Epoch 16/20\n",
      "1778/1778 [==============================] - 3s 2ms/step - loss: 0.3127 - accuracy: 0.8666 - auc: 0.8993\n",
      "Epoch 17/20\n",
      "1778/1778 [==============================] - 3s 2ms/step - loss: 0.3099 - accuracy: 0.8685 - auc: 0.9009\n",
      "Epoch 18/20\n",
      "1778/1778 [==============================] - 3s 2ms/step - loss: 0.3077 - accuracy: 0.8701 - auc: 0.9021\n",
      "Epoch 19/20\n",
      "1778/1778 [==============================] - 3s 2ms/step - loss: 0.3089 - accuracy: 0.8680 - auc: 0.9017\n",
      "Epoch 20/20\n",
      "1778/1778 [==============================] - 3s 2ms/step - loss: 0.3074 - accuracy: 0.8683 - auc: 0.9030\n"
     ]
    },
    {
     "data": {
      "text/plain": [
       "<tensorflow.python.keras.callbacks.History at 0x2518041c3a0>"
      ]
     },
     "execution_count": 87,
     "metadata": {},
     "output_type": "execute_result"
    }
   ],
   "source": [
    "model = Sequential()\n",
    "\n",
    "model.add(Dense(114,input_shape=(114,), activation='relu'))\n",
    "model.add(Dropout(0.2))\n",
    "model.add(Dense(128, activation='relu'))\n",
    "model.add(Dropout(0.2))\n",
    "model.add(Dense(256, activation='relu'))\n",
    "model.add(Dropout(0.2))\n",
    "model.add(Dense(64, activation='relu'))\n",
    "model.add(Dropout(0.2))\n",
    "\n",
    "model.add(Dense(1, activation='sigmoid'))\n",
    "\n",
    "\n",
    "model.compile(optimizer=\"adam\",\n",
    "              loss=\"binary_crossentropy\", \n",
    "              metrics=[\"accuracy\", tf.keras.metrics.AUC()])\n",
    "\n",
    "model.fit(X_train, Y_train, epochs=20, batch_size=64, verbose = 1)"
   ]
  },
  {
   "cell_type": "code",
   "execution_count": 88,
   "metadata": {},
   "outputs": [
    {
     "name": "stdout",
     "output_type": "stream",
     "text": [
      "              precision    recall  f1-score   support\n",
      "\n",
      "           0       0.88      0.94      0.91     22044\n",
      "           1       0.72      0.57      0.63      6395\n",
      "\n",
      "    accuracy                           0.85     28439\n",
      "   macro avg       0.80      0.75      0.77     28439\n",
      "weighted avg       0.85      0.85      0.85     28439\n",
      "\n",
      "[[20649  1395]\n",
      " [ 2776  3619]]\n"
     ]
    }
   ],
   "source": [
    "y_pred = model.predict(X_test)\n",
    "\n",
    "y_pred = np.rint(y_pred)\n",
    "\n",
    "print(classification_report(Y_test, y_pred))\n",
    "\n",
    "cm = confusion_matrix(Y_test, y_pred)\n",
    "\n",
    "print(cm)"
   ]
  },
  {
   "cell_type": "code",
   "execution_count": 99,
   "metadata": {},
   "outputs": [
    {
     "name": "stdout",
     "output_type": "stream",
     "text": [
      "Epoch 1/50\n",
      "690/690 [==============================] - 2s 2ms/step - loss: 1.9898 - accuracy: 0.5184\n",
      "Epoch 2/50\n",
      "690/690 [==============================] - 2s 2ms/step - loss: 0.5956 - accuracy: 0.6786\n",
      "Epoch 3/50\n",
      "690/690 [==============================] - 2s 2ms/step - loss: 0.5203 - accuracy: 0.7450\n",
      "Epoch 4/50\n",
      "690/690 [==============================] - 2s 2ms/step - loss: 0.5024 - accuracy: 0.7564\n",
      "Epoch 5/50\n",
      "690/690 [==============================] - 2s 2ms/step - loss: 0.4920 - accuracy: 0.7602\n",
      "Epoch 6/50\n",
      "690/690 [==============================] - 2s 2ms/step - loss: 0.4873 - accuracy: 0.7638\n",
      "Epoch 7/50\n",
      "690/690 [==============================] - 2s 2ms/step - loss: 0.4845 - accuracy: 0.7667\n",
      "Epoch 8/50\n",
      "690/690 [==============================] - 2s 2ms/step - loss: 0.4798 - accuracy: 0.7666\n",
      "Epoch 9/50\n",
      "690/690 [==============================] - 2s 2ms/step - loss: 0.4765 - accuracy: 0.7692\n",
      "Epoch 10/50\n",
      "690/690 [==============================] - 2s 2ms/step - loss: 0.4735 - accuracy: 0.7693\n",
      "Epoch 11/50\n",
      "690/690 [==============================] - 2s 2ms/step - loss: 0.4784 - accuracy: 0.7668\n",
      "Epoch 12/50\n",
      "690/690 [==============================] - 2s 2ms/step - loss: 0.4703 - accuracy: 0.7731\n",
      "Epoch 13/50\n",
      "690/690 [==============================] - 2s 2ms/step - loss: 0.4748 - accuracy: 0.7716\n",
      "Epoch 14/50\n",
      "690/690 [==============================] - 2s 2ms/step - loss: 0.4725 - accuracy: 0.7727\n",
      "Epoch 15/50\n",
      "690/690 [==============================] - 2s 2ms/step - loss: 0.4717 - accuracy: 0.7718\n",
      "Epoch 16/50\n",
      "690/690 [==============================] - 2s 2ms/step - loss: 0.4740 - accuracy: 0.7725\n",
      "Epoch 17/50\n",
      "690/690 [==============================] - 2s 2ms/step - loss: 0.4760 - accuracy: 0.7695\n",
      "Epoch 18/50\n",
      "690/690 [==============================] - 2s 2ms/step - loss: 0.4733 - accuracy: 0.7699\n",
      "Epoch 19/50\n",
      "690/690 [==============================] - 2s 2ms/step - loss: 0.4766 - accuracy: 0.7675\n",
      "Epoch 20/50\n",
      "690/690 [==============================] - 2s 2ms/step - loss: 0.4719 - accuracy: 0.7701\n",
      "Epoch 21/50\n",
      "690/690 [==============================] - 2s 2ms/step - loss: 0.4703 - accuracy: 0.7725\n",
      "Epoch 22/50\n",
      "690/690 [==============================] - 2s 2ms/step - loss: 0.4727 - accuracy: 0.7726\n",
      "Epoch 23/50\n",
      "690/690 [==============================] - 2s 2ms/step - loss: 0.4727 - accuracy: 0.7702\n",
      "Epoch 24/50\n",
      "690/690 [==============================] - 2s 2ms/step - loss: 0.4723 - accuracy: 0.7706\n",
      "Epoch 25/50\n",
      "690/690 [==============================] - 2s 2ms/step - loss: 0.4701 - accuracy: 0.7720\n",
      "Epoch 26/50\n",
      "690/690 [==============================] - 2s 2ms/step - loss: 0.4746 - accuracy: 0.7694\n",
      "Epoch 27/50\n",
      "690/690 [==============================] - 2s 2ms/step - loss: 0.4709 - accuracy: 0.7735\n",
      "Epoch 28/50\n",
      "690/690 [==============================] - 2s 2ms/step - loss: 0.4714 - accuracy: 0.7706\n",
      "Epoch 29/50\n",
      "690/690 [==============================] - 2s 2ms/step - loss: 0.4714 - accuracy: 0.7704\n",
      "Epoch 30/50\n",
      "690/690 [==============================] - 2s 2ms/step - loss: 0.4678 - accuracy: 0.7715\n",
      "Epoch 31/50\n",
      "690/690 [==============================] - 2s 2ms/step - loss: 0.4712 - accuracy: 0.7714\n",
      "Epoch 32/50\n",
      "690/690 [==============================] - 2s 2ms/step - loss: 0.4692 - accuracy: 0.7723\n",
      "Epoch 33/50\n",
      "690/690 [==============================] - 2s 2ms/step - loss: 0.4688 - accuracy: 0.7718\n",
      "Epoch 34/50\n",
      "690/690 [==============================] - 2s 2ms/step - loss: 0.4677 - accuracy: 0.7732\n",
      "Epoch 35/50\n",
      "690/690 [==============================] - 2s 2ms/step - loss: 0.4686 - accuracy: 0.7736\n",
      "Epoch 36/50\n",
      "690/690 [==============================] - 2s 2ms/step - loss: 0.4699 - accuracy: 0.7719\n",
      "Epoch 37/50\n",
      "690/690 [==============================] - 2s 2ms/step - loss: 0.4663 - accuracy: 0.7737\n",
      "Epoch 38/50\n",
      "690/690 [==============================] - 2s 2ms/step - loss: 0.4689 - accuracy: 0.7728\n",
      "Epoch 39/50\n",
      "690/690 [==============================] - 2s 2ms/step - loss: 0.4758 - accuracy: 0.7664\n",
      "Epoch 40/50\n",
      "690/690 [==============================] - 2s 2ms/step - loss: 0.4739 - accuracy: 0.7694\n",
      "Epoch 41/50\n",
      "690/690 [==============================] - 2s 2ms/step - loss: 0.4720 - accuracy: 0.7711\n",
      "Epoch 42/50\n",
      "690/690 [==============================] - 2s 2ms/step - loss: 0.4719 - accuracy: 0.7711\n",
      "Epoch 43/50\n",
      "690/690 [==============================] - 2s 2ms/step - loss: 0.4755 - accuracy: 0.7680\n",
      "Epoch 44/50\n",
      "690/690 [==============================] - 2s 2ms/step - loss: 0.4735 - accuracy: 0.7695\n",
      "Epoch 45/50\n",
      "690/690 [==============================] - 2s 2ms/step - loss: 0.4751 - accuracy: 0.7695\n",
      "Epoch 46/50\n",
      "690/690 [==============================] - 2s 2ms/step - loss: 0.4683 - accuracy: 0.7744\n",
      "Epoch 47/50\n",
      "690/690 [==============================] - 2s 2ms/step - loss: 0.4674 - accuracy: 0.7741\n",
      "Epoch 48/50\n",
      "690/690 [==============================] - 2s 2ms/step - loss: 0.4696 - accuracy: 0.7720\n",
      "Epoch 49/50\n",
      "690/690 [==============================] - 2s 2ms/step - loss: 0.4678 - accuracy: 0.7742\n",
      "Epoch 50/50\n",
      "690/690 [==============================] - 2s 2ms/step - loss: 0.4691 - accuracy: 0.7731\n"
     ]
    }
   ],
   "source": [
    "model2 = Sequential()\n",
    "\n",
    "model2.add(Dense(114,input_shape=(114,),activation='relu'))\n",
    "model2.add(Dropout(0.1))\n",
    "model2.add(Dense(128, activation='relu'))\n",
    "model2.add(Dropout(0.1))\n",
    "model2.add(Dense(256, activation='relu'))\n",
    "#model2.add(Dropout(0.1))\n",
    "model2.add(Dense(128, activation='relu'))\n",
    "model2.add(Dropout(0.1))\n",
    "model2.add(Dense(32, activation='relu'))\n",
    "#model2.add(Dropout(0.1))\n",
    "model2.add(Dense(1, activation='sigmoid'))\n",
    "\n",
    "\n",
    "model2.compile(optimizer=\"adam\",\n",
    "              loss=\"binary_crossentropy\", \n",
    "              metrics=[\"accuracy\"])\n",
    "history = model2.fit(X_train_upsample, y_train_upsample, epochs=50, batch_size = 256, verbose = 1)\n"
   ]
  },
  {
   "cell_type": "code",
   "execution_count": 100,
   "metadata": {},
   "outputs": [
    {
     "name": "stdout",
     "output_type": "stream",
     "text": [
      "              precision    recall  f1-score   support\n",
      "\n",
      "           0       0.94      0.69      0.79     22044\n",
      "           1       0.44      0.85      0.58      6395\n",
      "\n",
      "    accuracy                           0.72     28439\n",
      "   macro avg       0.69      0.77      0.69     28439\n",
      "weighted avg       0.83      0.72      0.74     28439\n",
      "\n",
      "[[15113  6931]\n",
      " [  982  5413]]\n"
     ]
    }
   ],
   "source": [
    "y_pred = model2.predict(X_test_os)\n",
    "\n",
    "y_pred = np.rint(y_pred)\n",
    "\n",
    "print(classification_report(Y_test, y_pred))\n",
    "\n",
    "cm = confusion_matrix(Y_test, y_pred)\n",
    "\n",
    "print(cm)"
   ]
  },
  {
   "cell_type": "code",
   "execution_count": 91,
   "metadata": {},
   "outputs": [
    {
     "name": "stdout",
     "output_type": "stream",
     "text": [
      "Epoch 1/50\n",
      "200/200 [==============================] - 1s 2ms/step - loss: 5.6197 - accuracy: 0.5086\n",
      "Epoch 2/50\n",
      "200/200 [==============================] - 0s 2ms/step - loss: 0.8191 - accuracy: 0.5280\n",
      "Epoch 3/50\n",
      "200/200 [==============================] - 0s 2ms/step - loss: 0.6781 - accuracy: 0.6085\n",
      "Epoch 4/50\n",
      "200/200 [==============================] - 0s 2ms/step - loss: 0.5912 - accuracy: 0.6907\n",
      "Epoch 5/50\n",
      "200/200 [==============================] - 0s 2ms/step - loss: 0.5514 - accuracy: 0.7236\n",
      "Epoch 6/50\n",
      "200/200 [==============================] - 0s 2ms/step - loss: 0.5493 - accuracy: 0.7270\n",
      "Epoch 7/50\n",
      "200/200 [==============================] - 0s 2ms/step - loss: 0.5342 - accuracy: 0.7368\n",
      "Epoch 8/50\n",
      "200/200 [==============================] - 0s 2ms/step - loss: 0.5184 - accuracy: 0.7462\n",
      "Epoch 9/50\n",
      "200/200 [==============================] - 0s 2ms/step - loss: 0.5166 - accuracy: 0.7474\n",
      "Epoch 10/50\n",
      "200/200 [==============================] - 0s 2ms/step - loss: 0.5054 - accuracy: 0.7541\n",
      "Epoch 11/50\n",
      "200/200 [==============================] - 0s 2ms/step - loss: 0.5071 - accuracy: 0.7550\n",
      "Epoch 12/50\n",
      "200/200 [==============================] - 0s 2ms/step - loss: 0.4966 - accuracy: 0.7601\n",
      "Epoch 13/50\n",
      "200/200 [==============================] - 0s 2ms/step - loss: 0.4923 - accuracy: 0.7622\n",
      "Epoch 14/50\n",
      "200/200 [==============================] - 0s 2ms/step - loss: 0.4953 - accuracy: 0.7605\n",
      "Epoch 15/50\n",
      "200/200 [==============================] - 0s 2ms/step - loss: 0.4977 - accuracy: 0.7594\n",
      "Epoch 16/50\n",
      "200/200 [==============================] - 0s 2ms/step - loss: 0.4896 - accuracy: 0.7644\n",
      "Epoch 17/50\n",
      "200/200 [==============================] - 0s 2ms/step - loss: 0.4914 - accuracy: 0.7623\n",
      "Epoch 18/50\n",
      "200/200 [==============================] - 0s 2ms/step - loss: 0.4861 - accuracy: 0.7670\n",
      "Epoch 19/50\n",
      "200/200 [==============================] - 0s 2ms/step - loss: 0.4849 - accuracy: 0.7670\n",
      "Epoch 20/50\n",
      "200/200 [==============================] - 0s 2ms/step - loss: 0.4902 - accuracy: 0.7646\n",
      "Epoch 21/50\n",
      "200/200 [==============================] - 0s 2ms/step - loss: 0.4786 - accuracy: 0.7695\n",
      "Epoch 22/50\n",
      "200/200 [==============================] - 0s 2ms/step - loss: 0.4838 - accuracy: 0.7681\n",
      "Epoch 23/50\n",
      "200/200 [==============================] - 0s 2ms/step - loss: 0.4826 - accuracy: 0.7675\n",
      "Epoch 24/50\n",
      "200/200 [==============================] - 0s 2ms/step - loss: 0.4833 - accuracy: 0.7678\n",
      "Epoch 25/50\n",
      "200/200 [==============================] - 0s 2ms/step - loss: 0.4789 - accuracy: 0.7687\n",
      "Epoch 26/50\n",
      "200/200 [==============================] - 0s 2ms/step - loss: 0.4829 - accuracy: 0.7652\n",
      "Epoch 27/50\n",
      "200/200 [==============================] - 0s 2ms/step - loss: 0.4882 - accuracy: 0.7637\n",
      "Epoch 28/50\n",
      "200/200 [==============================] - 0s 2ms/step - loss: 0.4812 - accuracy: 0.7665\n",
      "Epoch 29/50\n",
      "200/200 [==============================] - 0s 2ms/step - loss: 0.4741 - accuracy: 0.7710\n",
      "Epoch 30/50\n",
      "200/200 [==============================] - 0s 2ms/step - loss: 0.4757 - accuracy: 0.7714\n",
      "Epoch 31/50\n",
      "200/200 [==============================] - 0s 2ms/step - loss: 0.4783 - accuracy: 0.7707\n",
      "Epoch 32/50\n",
      "200/200 [==============================] - 0s 2ms/step - loss: 0.4795 - accuracy: 0.7683\n",
      "Epoch 33/50\n",
      "200/200 [==============================] - 0s 2ms/step - loss: 0.4773 - accuracy: 0.7711\n",
      "Epoch 34/50\n",
      "200/200 [==============================] - 0s 2ms/step - loss: 0.4792 - accuracy: 0.7687\n",
      "Epoch 35/50\n",
      "200/200 [==============================] - 0s 2ms/step - loss: 0.4760 - accuracy: 0.7704\n",
      "Epoch 36/50\n",
      "200/200 [==============================] - 0s 2ms/step - loss: 0.4737 - accuracy: 0.7684\n",
      "Epoch 37/50\n",
      "200/200 [==============================] - 0s 2ms/step - loss: 0.4760 - accuracy: 0.7721\n",
      "Epoch 38/50\n",
      "200/200 [==============================] - 0s 2ms/step - loss: 0.4659 - accuracy: 0.7775\n",
      "Epoch 39/50\n",
      "200/200 [==============================] - 0s 2ms/step - loss: 0.4728 - accuracy: 0.7746\n",
      "Epoch 40/50\n",
      "200/200 [==============================] - 0s 2ms/step - loss: 0.4805 - accuracy: 0.7672\n",
      "Epoch 41/50\n",
      "200/200 [==============================] - 0s 2ms/step - loss: 0.4712 - accuracy: 0.7711\n",
      "Epoch 42/50\n",
      "200/200 [==============================] - 0s 2ms/step - loss: 0.4747 - accuracy: 0.7704\n",
      "Epoch 43/50\n",
      "200/200 [==============================] - 0s 2ms/step - loss: 0.4699 - accuracy: 0.7744\n",
      "Epoch 44/50\n",
      "200/200 [==============================] - 0s 2ms/step - loss: 0.4715 - accuracy: 0.7730\n",
      "Epoch 45/50\n",
      "200/200 [==============================] - 0s 2ms/step - loss: 0.4721 - accuracy: 0.7736\n",
      "Epoch 46/50\n",
      "200/200 [==============================] - 0s 2ms/step - loss: 0.4682 - accuracy: 0.7746\n",
      "Epoch 47/50\n",
      "200/200 [==============================] - 0s 2ms/step - loss: 0.4730 - accuracy: 0.7714\n",
      "Epoch 48/50\n",
      "200/200 [==============================] - 0s 2ms/step - loss: 0.4733 - accuracy: 0.7745\n",
      "Epoch 49/50\n",
      "200/200 [==============================] - 0s 2ms/step - loss: 0.4664 - accuracy: 0.7739\n",
      "Epoch 50/50\n",
      "200/200 [==============================] - 0s 2ms/step - loss: 0.4772 - accuracy: 0.7705\n",
      "              precision    recall  f1-score   support\n",
      "\n",
      "           0       0.91      0.81      0.86     22044\n",
      "           1       0.53      0.73      0.61      6395\n",
      "\n",
      "    accuracy                           0.79     28439\n",
      "   macro avg       0.72      0.77      0.74     28439\n",
      "weighted avg       0.83      0.79      0.81     28439\n",
      "\n",
      "[[17950  4094]\n",
      " [ 1738  4657]]\n"
     ]
    }
   ],
   "source": [
    "model3 = Sequential()\n",
    "\n",
    "model3.add(Dense(114,input_shape=(114,),activation='relu'))\n",
    "model3.add(Dropout(0.1))\n",
    "model3.add(Dense(128, activation='relu'))\n",
    "model3.add(Dropout(0.1))\n",
    "model3.add(Dense(256, activation='relu'))\n",
    "#model3.add(Dropout(0.1))\n",
    "model3.add(Dense(128, activation='relu'))\n",
    "#model3.add(Dropout(0.1))\n",
    "model3.add(Dense(32, activation='relu'))\n",
    "#model3.add(Dropout(0.1))\n",
    "model3.add(Dense(1, activation='sigmoid'))\n",
    "\n",
    "\n",
    "model3.compile(optimizer=\"adam\",\n",
    "              loss=\"binary_crossentropy\", \n",
    "              metrics=[\"accuracy\"])\n",
    "\n",
    "history = model3.fit(X_train_downsample, y_train_downsample, epochs=50, batch_size = 256, verbose = 1)\n",
    "\n",
    "y_pred = model3.predict(X_test_os)\n",
    "\n",
    "y_pred = np.rint(y_pred)\n",
    "\n",
    "print(classification_report(Y_test, y_pred))\n",
    "\n",
    "cm = confusion_matrix(Y_test, y_pred)\n",
    "\n",
    "print(cm)"
   ]
  },
  {
   "cell_type": "code",
   "execution_count": null,
   "metadata": {},
   "outputs": [
    {
     "name": "stdout",
     "output_type": "stream",
     "text": [
      "Epoch 1/20\n",
      "WARNING:tensorflow:Model was constructed with shape (None, 32, 114) for input KerasTensor(type_spec=TensorSpec(shape=(None, 32, 114), dtype=tf.float32, name='dense_89_input'), name='dense_89_input', description=\"created by layer 'dense_89_input'\"), but it was called on an input with incompatible shape (32, 114).\n",
      "WARNING:tensorflow:Model was constructed with shape (None, 32, 114) for input KerasTensor(type_spec=TensorSpec(shape=(None, 32, 114), dtype=tf.float32, name='dense_89_input'), name='dense_89_input', description=\"created by layer 'dense_89_input'\"), but it was called on an input with incompatible shape (32, 114).\n",
      "5482/5517 [============================>.] - ETA: 0s - loss: 0.4992 - accuracy: 0.7529WARNING:tensorflow:Model was constructed with shape (None, 32, 114) for input KerasTensor(type_spec=TensorSpec(shape=(None, 32, 114), dtype=tf.float32, name='dense_89_input'), name='dense_89_input', description=\"created by layer 'dense_89_input'\"), but it was called on an input with incompatible shape (None, 114).\n",
      "5517/5517 [==============================] - 6s 1ms/step - loss: 0.4989 - accuracy: 0.7531 - val_loss: 0.4247 - val_accuracy: 0.8008\n",
      "Epoch 2/20\n",
      "5517/5517 [==============================] - 6s 1ms/step - loss: 0.4118 - accuracy: 0.8101 - val_loss: 0.4549 - val_accuracy: 0.7838\n",
      "Epoch 3/20\n",
      "5517/5517 [==============================] - 6s 1ms/step - loss: 0.4027 - accuracy: 0.8148 - val_loss: 0.4389 - val_accuracy: 0.7890\n",
      "Epoch 4/20\n",
      "5517/5517 [==============================] - 6s 1ms/step - loss: 0.3907 - accuracy: 0.8236 - val_loss: 0.4318 - val_accuracy: 0.7892\n",
      "Epoch 5/20\n",
      "5517/5517 [==============================] - 6s 1ms/step - loss: 0.3846 - accuracy: 0.8259 - val_loss: 0.4363 - val_accuracy: 0.8058\n",
      "Epoch 6/20\n",
      "5517/5517 [==============================] - 6s 1ms/step - loss: 0.3820 - accuracy: 0.8280 - val_loss: 0.4167 - val_accuracy: 0.8023\n",
      "Epoch 7/20\n",
      "5517/5517 [==============================] - 6s 1ms/step - loss: 0.3778 - accuracy: 0.8293 - val_loss: 0.4060 - val_accuracy: 0.8156\n",
      "Epoch 8/20\n",
      "5517/5517 [==============================] - 6s 1ms/step - loss: 0.3749 - accuracy: 0.8332 - val_loss: 0.4185 - val_accuracy: 0.7943\n",
      "Epoch 9/20\n",
      "5517/5517 [==============================] - 6s 1ms/step - loss: 0.3723 - accuracy: 0.8338 - val_loss: 0.4238 - val_accuracy: 0.7939\n",
      "Epoch 10/20\n",
      "5517/5517 [==============================] - 6s 1ms/step - loss: 0.3711 - accuracy: 0.8351 - val_loss: 0.4199 - val_accuracy: 0.7991\n",
      "Epoch 11/20\n",
      "5517/5517 [==============================] - 6s 1ms/step - loss: 0.3691 - accuracy: 0.8338 - val_loss: 0.4310 - val_accuracy: 0.8005\n",
      "Epoch 12/20\n",
      "5517/5517 [==============================] - 6s 1ms/step - loss: 0.3671 - accuracy: 0.8357 - val_loss: 0.4215 - val_accuracy: 0.7928\n",
      "Epoch 13/20\n",
      "5517/5517 [==============================] - 6s 1ms/step - loss: 0.3642 - accuracy: 0.8383 - val_loss: 0.4150 - val_accuracy: 0.8102\n",
      "Epoch 14/20\n",
      "5517/5517 [==============================] - 6s 1ms/step - loss: 0.3632 - accuracy: 0.8389 - val_loss: 0.4024 - val_accuracy: 0.8052\n",
      "Epoch 15/20\n",
      "5517/5517 [==============================] - 6s 1ms/step - loss: 0.3642 - accuracy: 0.8375 - val_loss: 0.3965 - val_accuracy: 0.8114\n",
      "Epoch 16/20\n",
      "5517/5517 [==============================] - 6s 1ms/step - loss: 0.3627 - accuracy: 0.8390 - val_loss: 0.4080 - val_accuracy: 0.8172\n",
      "Epoch 17/20\n",
      "5517/5517 [==============================] - 6s 1ms/step - loss: 0.3581 - accuracy: 0.8406 - val_loss: 0.4284 - val_accuracy: 0.8045\n",
      "Epoch 18/20\n",
      "1323/5517 [======>.......................] - ETA: 4s - loss: 0.3559 - accuracy: 0.8398"
     ]
    }
   ],
   "source": [
    "#%% Synthetic Minority Oversampling Technique (SMOTE)\n",
    "\n",
    "from imblearn.over_sampling import SMOTE\n",
    "\n",
    "sm = SMOTE()\n",
    "X_train_res, y_train_res = sm.fit_resample(X_train.to_numpy(), Y_train.to_numpy().ravel())\n",
    "\n",
    "model2 = Sequential()\n",
    "\n",
    "model2.add(Dense(32,input_shape=(32, 114),activation='relu'))\n",
    "model2.add(Dropout(0.1))\n",
    "model2.add(Dense(128, activation='relu'))\n",
    "model2.add(Dropout(0.1))\n",
    "model2.add(Dense(256, activation='relu'))\n",
    "model2.add(Dropout(0.1))\n",
    "model2.add(Dense(128, activation='relu'))\n",
    "model2.add(Dropout(0.1))\n",
    "model2.add(Dense(32, activation='relu'))\n",
    "model2.add(Dropout(0.1))\n",
    "model2.add(Dense(1, activation='sigmoid'))\n",
    "\n",
    "\n",
    "model2.compile(optimizer=\"adam\",\n",
    "              loss=\"binary_crossentropy\", \n",
    "              metrics=[\"accuracy\"])\n",
    "\n",
    "tracker = model2.fit(X_train_res, y_train_res, epochs=20, batch_size=32, validation_data=(X_test,Y_test))\n",
    "\n",
    "\n",
    "y_pred = model2.predict(X_test)\n",
    "\n",
    "y_pred = np.rint(y_pred)\n",
    "\n",
    "print(classification_report(Y_test, y_pred))\n",
    "\n",
    "cm = confusion_matrix(Y_test, y_pred)\n",
    "\n",
    "print(cm)"
   ]
  },
  {
   "cell_type": "code",
   "execution_count": null,
   "metadata": {},
   "outputs": [],
   "source": [
    "from sklearn.linear_model import LogisticRegression\n",
    "\n",
    "logreg = LogisticRegression(solver='liblinear', random_state=0)\n",
    "# fit the model\n",
    "logreg.fit(X_train_res, y_train_res)\n",
    "y_pred_test_2 = logreg.predict(X_test)\n",
    "print('Model accuracy score: {0:0.4f}'. format(accuracy_score(y_test, y_pred_test_2)))\n",
    "\n",
    "plot_confusion_matrix(logreg, X_test, y_test)\n",
    "plt.show()"
   ]
  },
  {
   "cell_type": "code",
   "execution_count": null,
   "metadata": {},
   "outputs": [],
   "source": []
  }
 ],
 "metadata": {
  "kernelspec": {
   "display_name": "Python 3",
   "language": "python",
   "name": "python3"
  },
  "language_info": {
   "codemirror_mode": {
    "name": "ipython",
    "version": 3
   },
   "file_extension": ".py",
   "mimetype": "text/x-python",
   "name": "python",
   "nbconvert_exporter": "python",
   "pygments_lexer": "ipython3",
   "version": "3.8.5"
  }
 },
 "nbformat": 4,
 "nbformat_minor": 4
}
